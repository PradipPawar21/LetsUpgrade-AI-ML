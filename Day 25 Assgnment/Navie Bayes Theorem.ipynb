{
 "cells": [
  {
   "cell_type": "markdown",
   "metadata": {},
   "source": [
    "# Navie Bayes "
   ]
  },
  {
   "cell_type": "code",
   "execution_count": 1,
   "metadata": {},
   "outputs": [],
   "source": [
    "import pandas as pd\n",
    "\n",
    "from sklearn import preprocessing\n",
    "\n",
    "from sklearn.model_selection import train_test_split\n",
    "\n",
    "from sklearn.naive_bayes import GaussianNB\n",
    "\n",
    "from sklearn.metrics import accuracy_score\n",
    "from sklearn.metrics import confusion_matrix\n",
    "\n",
    "from sklearn.naive_bayes import *"
   ]
  },
  {
   "cell_type": "code",
   "execution_count": 2,
   "metadata": {},
   "outputs": [],
   "source": [
    "dataset=pd.read_csv(\"train.csv\")"
   ]
  },
  {
   "cell_type": "code",
   "execution_count": 3,
   "metadata": {},
   "outputs": [],
   "source": [
    "le=preprocessing.LabelEncoder()"
   ]
  },
  {
   "cell_type": "code",
   "execution_count": 5,
   "metadata": {},
   "outputs": [],
   "source": [
    "le.fit(dataset[\"Sex\"])\n",
    "dataset[\"Sex\"]=le.transform(dataset[\"Sex\"])\n"
   ]
  },
  {
   "cell_type": "code",
   "execution_count": 6,
   "metadata": {},
   "outputs": [],
   "source": [
    "le.fit(dataset[\"Embarked\"])\n",
    "dataset[\"Embarked\"]=le.transform(dataset[\"Embarked\"])\n"
   ]
  },
  {
   "cell_type": "code",
   "execution_count": 7,
   "metadata": {},
   "outputs": [],
   "source": [
    "y=dataset[\"Survived\"]\n",
    "X=dataset.drop([\"Survived\",\"PassengerId\",\"Ticket\",\"Name\",\"Cabin\"],axis=1)\n"
   ]
  },
  {
   "cell_type": "code",
   "execution_count": 8,
   "metadata": {},
   "outputs": [
    {
     "data": {
      "text/plain": [
       "889"
      ]
     },
     "execution_count": 8,
     "metadata": {},
     "output_type": "execute_result"
    }
   ],
   "source": [
    "y.count()"
   ]
  },
  {
   "cell_type": "code",
   "execution_count": 9,
   "metadata": {},
   "outputs": [],
   "source": [
    "X_train,X_test,y_train,y_test=train_test_split(X,y,test_size=0.3,random_state=0)"
   ]
  },
  {
   "cell_type": "code",
   "execution_count": 10,
   "metadata": {},
   "outputs": [],
   "source": [
    "clf=GaussianNB()"
   ]
  },
  {
   "cell_type": "code",
   "execution_count": 11,
   "metadata": {},
   "outputs": [],
   "source": [
    "y_pred=clf.fit(X_train,y_train).predict(X_test)"
   ]
  },
  {
   "cell_type": "code",
   "execution_count": 12,
   "metadata": {},
   "outputs": [
    {
     "name": "stdout",
     "output_type": "stream",
     "text": [
      "The Accusracy score is  75.2809\n"
     ]
    }
   ],
   "source": [
    "print(\"The Accusracy score is \",round(accuracy_score(y_test,y_pred,normalize=True)*100,4))"
   ]
  },
  {
   "cell_type": "code",
   "execution_count": 13,
   "metadata": {},
   "outputs": [
    {
     "name": "stdout",
     "output_type": "stream",
     "text": [
      "Accuracy score with confusion matrix is  75.2809\n"
     ]
    }
   ],
   "source": [
    "x=confusion_matrix(y_test,y_pred)\n",
    "x\n",
    "xc=x[0,0]+x[1,1]\n",
    "xnc=x[0,1]+x[1,0]\n",
    "print(\"Accuracy score with confusion matrix is \",round(xc/(xc+xnc)*100,4))"
   ]
  },
  {
   "cell_type": "code",
   "execution_count": 16,
   "metadata": {},
   "outputs": [
    {
     "data": {
      "text/plain": [
       "Index(['PassengerId', 'Survived', 'Pclass', 'Name', 'Sex', 'Age', 'SibSp',\n",
       "       'Parch', 'Ticket', 'Fare', 'Cabin', 'Embarked'],\n",
       "      dtype='object')"
      ]
     },
     "execution_count": 16,
     "metadata": {},
     "output_type": "execute_result"
    }
   ],
   "source": [
    "dataset.columns"
   ]
  },
  {
   "cell_type": "code",
   "execution_count": 18,
   "metadata": {},
   "outputs": [],
   "source": [
    "def nbt(fea):\n",
    "    y=dataset[fea]\n",
    "    X=dataset.drop([fea,\"PassengerId\",\"Ticket\",\"Name\",\"Cabin\"],axis=1)\n",
    "    \n",
    "    X_train,X_test,y_train,y_test=train_test_split(X,y,test_size=0.3,random_state=0)\n",
    "    \n",
    "    clf=GaussianNB()\n",
    "    \n",
    "    y_pred=clf.fit(X_train,y_train).predict(X_test)\n",
    "    \n",
    "    print(\"TAKING \",fea,\"AS DEPEDENT VARIABle AS OTHERS AS INDEPEDENT VARIABLE \\n\")\n",
    "    print(\"The Accuracy score is \\n\",round(accuracy_score(y_test,y_pred,normalize=True)*100,4))\n",
    "    \n",
    "    x=confusion_matrix(y_test,y_pred)\n",
    "    x\n",
    "    xc=x[0,0]+x[1,1]\n",
    "    xnc=x[0,1]+x[1,0]\n",
    "    print(\"Accuracy score with confusion matrix is \\n\",round(xc/(xc+xnc)*100,4))\n",
    "    print(\"---------------------------------------------------------------------------------------------\")"
   ]
  },
  {
   "cell_type": "code",
   "execution_count": 19,
   "metadata": {},
   "outputs": [],
   "source": [
    "lst=['Survived','Pclass',  'Sex', 'SibSp','Parch', 'Embarked']"
   ]
  },
  {
   "cell_type": "code",
   "execution_count": 20,
   "metadata": {},
   "outputs": [
    {
     "name": "stdout",
     "output_type": "stream",
     "text": [
      "TAKING  Survived AS DEPEDENT VARIABle AS OTHERS AS INDEPEDENT VARIABLE \n",
      "\n",
      "The Accuracy score is \n",
      " 75.2809\n",
      "Accuracy score with confusion matrix is \n",
      " 75.2809\n",
      "---------------------------------------------------------------------------------------------\n",
      "TAKING  Pclass AS DEPEDENT VARIABle AS OTHERS AS INDEPEDENT VARIABLE \n",
      "\n",
      "The Accuracy score is \n",
      " 69.6629\n",
      "Accuracy score with confusion matrix is \n",
      " 81.0526\n",
      "---------------------------------------------------------------------------------------------\n",
      "TAKING  Sex AS DEPEDENT VARIABle AS OTHERS AS INDEPEDENT VARIABLE \n",
      "\n",
      "The Accuracy score is \n",
      " 71.5356\n",
      "Accuracy score with confusion matrix is \n",
      " 71.5356\n",
      "---------------------------------------------------------------------------------------------\n",
      "TAKING  SibSp AS DEPEDENT VARIABle AS OTHERS AS INDEPEDENT VARIABLE \n",
      "\n",
      "The Accuracy score is \n",
      " 55.4307\n",
      "Accuracy score with confusion matrix is \n",
      " 78.9773\n",
      "---------------------------------------------------------------------------------------------\n",
      "TAKING  Parch AS DEPEDENT VARIABle AS OTHERS AS INDEPEDENT VARIABLE \n",
      "\n",
      "The Accuracy score is \n",
      " 58.0524\n",
      "Accuracy score with confusion matrix is \n",
      " 85.0575\n",
      "---------------------------------------------------------------------------------------------\n",
      "TAKING  Embarked AS DEPEDENT VARIABle AS OTHERS AS INDEPEDENT VARIABLE \n",
      "\n",
      "The Accuracy score is \n",
      " 69.2884\n",
      "Accuracy score with confusion matrix is \n",
      " 91.6667\n",
      "---------------------------------------------------------------------------------------------\n"
     ]
    }
   ],
   "source": [
    "for x in lst :\n",
    "    fea=x\n",
    "    nbt(fea)"
   ]
  },
  {
   "cell_type": "code",
   "execution_count": null,
   "metadata": {},
   "outputs": [],
   "source": []
  }
 ],
 "metadata": {
  "kernelspec": {
   "display_name": "Python 3",
   "language": "python",
   "name": "python3"
  },
  "language_info": {
   "codemirror_mode": {
    "name": "ipython",
    "version": 3
   },
   "file_extension": ".py",
   "mimetype": "text/x-python",
   "name": "python",
   "nbconvert_exporter": "python",
   "pygments_lexer": "ipython3",
   "version": "3.7.6"
  }
 },
 "nbformat": 4,
 "nbformat_minor": 4
}
