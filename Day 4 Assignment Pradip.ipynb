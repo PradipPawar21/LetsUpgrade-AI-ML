{
 "cells": [
  {
   "cell_type": "markdown",
   "metadata": {},
   "source": [
    "# Name : Pradip Anandrao Pawar"
   ]
  },
  {
   "cell_type": "markdown",
   "metadata": {},
   "source": [
    "# Assignment Day 04"
   ]
  },
  {
   "cell_type": "markdown",
   "metadata": {},
   "source": [
    "# Question 1 :\n",
    "\n",
    "Research on whether addition, subtraction, multiplication, division, floor division and modulo operations be performed on complex numbers. Based on your study, implement a Python program to demonstrate these operations."
   ]
  },
  {
   "cell_type": "code",
   "execution_count": 1,
   "metadata": {},
   "outputs": [
    {
     "name": "stdout",
     "output_type": "stream",
     "text": [
      "Addition of two complex number : (8+12j)\n",
      "Substraction of two complex number : (4+4j)\n",
      "Multiplication of two complex number : (-20+40j)\n",
      "Division of two complex number : (2.2-0.4j)\n"
     ]
    }
   ],
   "source": [
    "# first assign value for a and b as a complex number\n",
    "\n",
    "a = 6 + 8j  # first complex number   a= x1 + y1j\n",
    "b = 2 + 4j  # second complex number  b= x2 + y2j\n",
    "\n",
    "#addition of these two complex number\n",
    "print(\"Addition of two complex number :\",a+b)   #a+b = (x1+x2) + (y1+y2)j\n",
    "\n",
    "#Substraction of two complex number \n",
    "print(\"Substraction of two complex number :\",a-b)   #a-b = (x1-x2) + (y1-y2)j\n",
    "\n",
    "#Multiplication of two complex number \n",
    "print(\"Multiplication of two complex number :\",a*b)    \n",
    "                            #a * b = ((x1 * x2) - (y1 * y2)) + ((x1 * y2) + (x2 * y1))j\n",
    "\n",
    "#Division of two complex number \n",
    "print(\"Division of two complex number :\",a/b)"
   ]
  },
  {
   "cell_type": "code",
   "execution_count": 2,
   "metadata": {},
   "outputs": [],
   "source": [
    "#  floor division and modulo operations on complex number"
   ]
  },
  {
   "cell_type": "raw",
   "metadata": {},
   "source": [
    "Complex numbers are numbers with a real and imaginary part. They're only worth noting here because neither modulo nor floor division can accept a complex number as an operand. Trying to use a complex number for floor division or modulo operations will raise a TypeError.\n"
   ]
  },
  {
   "cell_type": "markdown",
   "metadata": {},
   "source": [
    "# complex number for floor division or modulo operations will raise a TypeError"
   ]
  },
  {
   "cell_type": "code",
   "execution_count": 3,
   "metadata": {},
   "outputs": [
    {
     "ename": "TypeError",
     "evalue": "can't mod complex numbers.",
     "output_type": "error",
     "traceback": [
      "\u001b[1;31m---------------------------------------------------------------------------\u001b[0m",
      "\u001b[1;31mTypeError\u001b[0m                                 Traceback (most recent call last)",
      "\u001b[1;32m<ipython-input-3-d747702c525f>\u001b[0m in \u001b[0;36m<module>\u001b[1;34m\u001b[0m\n\u001b[0;32m      2\u001b[0m \u001b[0mb\u001b[0m \u001b[1;33m=\u001b[0m \u001b[1;36m2\u001b[0m \u001b[1;33m+\u001b[0m \u001b[1;36m4j\u001b[0m  \u001b[1;31m# second complex number  b= x2 + y2j\u001b[0m\u001b[1;33m\u001b[0m\u001b[1;33m\u001b[0m\u001b[0m\n\u001b[0;32m      3\u001b[0m \u001b[1;33m\u001b[0m\u001b[0m\n\u001b[1;32m----> 4\u001b[1;33m \u001b[0mprint\u001b[0m\u001b[1;33m(\u001b[0m\u001b[0ma\u001b[0m\u001b[1;33m%\u001b[0m\u001b[0mb\u001b[0m\u001b[1;33m)\u001b[0m\u001b[1;33m\u001b[0m\u001b[1;33m\u001b[0m\u001b[0m\n\u001b[0m",
      "\u001b[1;31mTypeError\u001b[0m: can't mod complex numbers."
     ]
    }
   ],
   "source": [
    "a = 6 + 8j  # first complex number   a= x1 + y1j\n",
    "b = 2 + 4j  # second complex number  b= x2 + y2j\n",
    "\n",
    "print(a%b)   "
   ]
  },
  {
   "cell_type": "markdown",
   "metadata": {},
   "source": [
    "# Question 2 :\n",
    "\n",
    "Research on range() functions and its parameters. Create a markdown cell and write in your own words (no copy-paste from google please) what you understand about it. Implement a small program of your choice on the same."
   ]
  },
  {
   "cell_type": "markdown",
   "metadata": {},
   "source": [
    "# range() function\n",
    "\n",
    "range() function only stores the start, stop, and step values, it consumes less amount of memory irrespective of the range it represents when compared to a list or tuple.\n",
    "\n",
    "The range() function can be represented in three different ways, or you can think of them as three range parameters:\n",
    "\n",
    "   range(stop_value) : This by default considers the starting point as zero.\n",
    "   \n",
    "   range(start_value, stop_value) : This generates the sequence based on the start and stop value.\n",
    "   \n",
    "   range(start_value, stop_value, step_size): It generates the sequence by incrementing the start        value using the step size until it reaches the stop value."
   ]
  },
  {
   "cell_type": "code",
   "execution_count": 4,
   "metadata": {},
   "outputs": [
    {
     "name": "stdout",
     "output_type": "stream",
     "text": [
      "0 1 2 3 4 5 6 7 8 9 "
     ]
    }
   ],
   "source": [
    "# range(stop_value)\n",
    "\n",
    "for i in range(10):       # here it writes the number from 0 to 9 and stops before stop value ie.10\n",
    "    print(i , end=\" \")"
   ]
  },
  {
   "cell_type": "code",
   "execution_count": 5,
   "metadata": {},
   "outputs": [
    {
     "name": "stdout",
     "output_type": "stream",
     "text": [
      "5 6 7 8 9 "
     ]
    }
   ],
   "source": [
    "# range(start_value, stop_value)\n",
    "\n",
    "for i in range(5,10):     # here number start from 5 ends one number before the stop value ie. number 5 to 9 \n",
    "    print(i , end=\" \")     # main thing we saw here number increasing by one "
   ]
  },
  {
   "cell_type": "code",
   "execution_count": 6,
   "metadata": {},
   "outputs": [
    {
     "name": "stdout",
     "output_type": "stream",
     "text": [
      "2 4 6 8 10 12 14 16 18 20 "
     ]
    }
   ],
   "source": [
    "# range(start_value, stop_value, step_size) \n",
    "\n",
    "# here we adding step_size inside range function\n",
    "\n",
    "for i in range(2,21,2):   # here we used step size which we increasing by 2\n",
    "    print(i , end=\" \")  # so it starts from 2 and it increase by 2,4,6 and so on upto stop value-1"
   ]
  },
  {
   "cell_type": "markdown",
   "metadata": {},
   "source": [
    "# Question 3:\n",
    "\n",
    "Consider two numbers. Perform their subtraction and if the result of subtraction is greater than 25, print their multiplication result else print their division result."
   ]
  },
  {
   "cell_type": "code",
   "execution_count": 7,
   "metadata": {},
   "outputs": [
    {
     "name": "stdout",
     "output_type": "stream",
     "text": [
      "Division of 20 and 5 = 4.0\n"
     ]
    }
   ],
   "source": [
    "#First declare two number a and b\n",
    "\n",
    "a = 20\n",
    "b = 5\n",
    "\n",
    "# Check substraction of a and  b and store it in c \n",
    "\n",
    "c= a - b\n",
    "\n",
    "# Check condition substraction is greater than 25 \n",
    "if c > 25:\n",
    "    #if substraction greater than 25 print multiplication of a and b\n",
    "    print(\"Multiplication of\",a,\"and\",b,\"=\", a*b)\n",
    "    \n",
    "#if substration is not grerater than 25 print division  of a and b\n",
    "else:\n",
    "    print(\"Division of\",a,\"and\",b,\"=\", a/b)"
   ]
  },
  {
   "cell_type": "markdown",
   "metadata": {},
   "source": [
    "# Question 4:\n",
    "\n",
    "Consider a list of 10 elements of integer values. If the number in the list is divisible by 2, print the result as \"square of that number minus 2\"."
   ]
  },
  {
   "cell_type": "code",
   "execution_count": 2,
   "metadata": {},
   "outputs": [
    {
     "name": "stdout",
     "output_type": "stream",
     "text": [
      "Updated Result = 2\n",
      "Updated Result = 14\n",
      "Result = 5\n",
      "Updated Result = 14\n",
      "Updated Result = 34\n",
      "Updated Result = 6082\n",
      "Result = 45\n",
      "Result = 43\n",
      "Updated Result = 7394\n",
      "Result = 91\n"
     ]
    }
   ],
   "source": [
    "lst = [2,4,5,4,6,78,45,43,86,91]\n",
    "for i in lst:\n",
    "    if i%2 == 0:\n",
    "        print('Updated Result =',(i**2)-2)\n",
    "    else:\n",
    "        print(\"Result =\",i)"
   ]
  },
  {
   "cell_type": "markdown",
   "metadata": {},
   "source": [
    "# Question 5:\n",
    "\n",
    "Consider a list of 10 elements. Print all the elements in the list which are greater than 7 when that number is divided 2."
   ]
  },
  {
   "cell_type": "code",
   "execution_count": 3,
   "metadata": {},
   "outputs": [
    {
     "name": "stdout",
     "output_type": "stream",
     "text": [
      "16 is divisible by 2 and is greatr than 7 also\n",
      "20 is divisible by 2 and is greatr than 7 also\n",
      "12 is divisible by 2 and is greatr than 7 also\n"
     ]
    }
   ],
   "source": [
    "# first step : make a list of 10 intiger value\n",
    "lst_1 = [4,5,16,7,87,20,12,6,3,75]\n",
    "\n",
    "for i in lst_1:\n",
    "    if i%2 == 0:\n",
    "        if i>7:\n",
    "            print(i, \"is divisible by 2 and is greatr than 7 also\")"
   ]
  },
  {
   "cell_type": "code",
   "execution_count": null,
   "metadata": {},
   "outputs": [],
   "source": []
  }
 ],
 "metadata": {
  "kernelspec": {
   "display_name": "Python 3",
   "language": "python",
   "name": "python3"
  },
  "language_info": {
   "codemirror_mode": {
    "name": "ipython",
    "version": 3
   },
   "file_extension": ".py",
   "mimetype": "text/x-python",
   "name": "python",
   "nbconvert_exporter": "python",
   "pygments_lexer": "ipython3",
   "version": "3.7.6"
  }
 },
 "nbformat": 4,
 "nbformat_minor": 4
}
