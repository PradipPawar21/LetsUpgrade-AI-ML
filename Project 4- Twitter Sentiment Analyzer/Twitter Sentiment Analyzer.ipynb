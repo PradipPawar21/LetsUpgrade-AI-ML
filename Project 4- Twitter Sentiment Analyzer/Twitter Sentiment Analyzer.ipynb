{
 "cells": [
  {
   "cell_type": "markdown",
   "metadata": {},
   "source": [
    "# We will collect Text data Using Twitter API."
   ]
  },
  {
   "cell_type": "code",
   "execution_count": 1,
   "metadata": {},
   "outputs": [
    {
     "name": "stdout",
     "output_type": "stream",
     "text": [
      "Requirement already satisfied: tweepy in c:\\users\\lenovo\\anaconda3\\lib\\site-packages (3.9.0)\n",
      "Requirement already satisfied: six>=1.10.0 in c:\\users\\lenovo\\anaconda3\\lib\\site-packages (from tweepy) (1.14.0)\n",
      "Requirement already satisfied: requests-oauthlib>=0.7.0 in c:\\users\\lenovo\\anaconda3\\lib\\site-packages (from tweepy) (1.3.0)\n",
      "Requirement already satisfied: requests[socks]>=2.11.1 in c:\\users\\lenovo\\anaconda3\\lib\\site-packages (from tweepy) (2.22.0)\n",
      "Requirement already satisfied: oauthlib>=3.0.0 in c:\\users\\lenovo\\anaconda3\\lib\\site-packages (from requests-oauthlib>=0.7.0->tweepy) (3.1.0)\n",
      "Requirement already satisfied: idna<2.9,>=2.5 in c:\\users\\lenovo\\anaconda3\\lib\\site-packages (from requests[socks]>=2.11.1->tweepy) (2.8)\n",
      "Requirement already satisfied: urllib3!=1.25.0,!=1.25.1,<1.26,>=1.21.1 in c:\\users\\lenovo\\anaconda3\\lib\\site-packages (from requests[socks]>=2.11.1->tweepy) (1.25.8)\n",
      "Requirement already satisfied: chardet<3.1.0,>=3.0.2 in c:\\users\\lenovo\\anaconda3\\lib\\site-packages (from requests[socks]>=2.11.1->tweepy) (3.0.4)\n",
      "Requirement already satisfied: certifi>=2017.4.17 in c:\\users\\lenovo\\anaconda3\\lib\\site-packages (from requests[socks]>=2.11.1->tweepy) (2019.11.28)\n",
      "Requirement already satisfied: PySocks!=1.5.7,>=1.5.6; extra == \"socks\" in c:\\users\\lenovo\\anaconda3\\lib\\site-packages (from requests[socks]>=2.11.1->tweepy) (1.7.1)\n"
     ]
    }
   ],
   "source": [
    "!pip install tweepy"
   ]
  },
  {
   "cell_type": "code",
   "execution_count": 2,
   "metadata": {},
   "outputs": [
    {
     "name": "stdout",
     "output_type": "stream",
     "text": [
      "Requirement already satisfied: openpyxl in c:\\users\\lenovo\\anaconda3\\lib\\site-packages (3.0.3)\n",
      "Requirement already satisfied: et-xmlfile in c:\\users\\lenovo\\anaconda3\\lib\\site-packages (from openpyxl) (1.0.1)\n",
      "Requirement already satisfied: jdcal in c:\\users\\lenovo\\anaconda3\\lib\\site-packages (from openpyxl) (1.4.1)\n"
     ]
    }
   ],
   "source": [
    "!pip install openpyxl"
   ]
  },
  {
   "cell_type": "code",
   "execution_count": 3,
   "metadata": {},
   "outputs": [],
   "source": [
    "import numpy as np\n",
    "import pandas as pd\n",
    "\n",
    "import tweepy\n",
    "import json\n",
    "\n",
    "from tweepy import OAuthHandler\n"
   ]
  },
  {
   "cell_type": "code",
   "execution_count": 4,
   "metadata": {},
   "outputs": [],
   "source": [
    "consumer_key = \"LzsCOl12ZZ79FObx7BV9a1R3a\"\n",
    "\n",
    "consumer_secret = \"gODxZ1kHJHDGgYfyP12AUN37UTlDd6yn3OsSV9Tl0iwu0K0cRY\"\n",
    "\n",
    "access_token = \"296102538-kYIK8SULCmRK4vgvYD2DhKbwvSXrgTdTkWh0Nvsp\"\n",
    "\n",
    "access_token_secret = \"Ib9obwgcE5tZk4S6tY5rAqI5iXOeJc9FGFg28qHoa4YpP\"\n"
   ]
  },
  {
   "cell_type": "code",
   "execution_count": 5,
   "metadata": {},
   "outputs": [],
   "source": [
    "#Create Object:\n",
    "auth = tweepy.OAuthHandler( consumer_key , consumer_secret )  #Communicating with Twitter\n",
    "\n",
    "#Access:\n",
    "auth.set_access_token( access_token , access_token_secret )\n",
    "\n",
    "api = tweepy.API(auth)\n"
   ]
  },
  {
   "cell_type": "code",
   "execution_count": 6,
   "metadata": {},
   "outputs": [],
   "source": [
    "query = \"PM Modi is the best leader\""
   ]
  },
  {
   "cell_type": "code",
   "execution_count": 7,
   "metadata": {},
   "outputs": [
    {
     "name": "stdout",
     "output_type": "stream",
     "text": [
      "Status(_api=<tweepy.api.API object at 0x000001D7ABEDFA48>, _json={'created_at': 'Tue Nov 03 22:50:56 +0000 2020', 'id': 1323759594280230912, 'id_str': '1323759594280230912', 'full_text': \"@MichailBoris That's Imran Khan a great human being and the best leader! Modi is a killer an extreme butcher he's climbed a mountain of dead bodies of innocent Muslims for reaching this far and now that he's the PM of india this shows what kinda person they want a fascist!\", 'truncated': False, 'display_text_range': [14, 273], 'entities': {'hashtags': [], 'symbols': [], 'user_mentions': [{'screen_name': 'MichailBoris', 'name': 'Michail Boris 🇷🇺', 'id': 1241016790483980295, 'id_str': '1241016790483980295', 'indices': [0, 13]}], 'urls': []}, 'metadata': {'iso_language_code': 'en', 'result_type': 'recent'}, 'source': '<a href=\"http://twitter.com/download/android\" rel=\"nofollow\">Twitter for Android</a>', 'in_reply_to_status_id': 1323521989584293889, 'in_reply_to_status_id_str': '1323521989584293889', 'in_reply_to_user_id': 1241016790483980295, 'in_reply_to_user_id_str': '1241016790483980295', 'in_reply_to_screen_name': 'MichailBoris', 'user': {'id': 1163673783544291328, 'id_str': '1163673783544291328', 'name': 'Owais Sadiq', 'screen_name': 'Owaisadiq__10', 'location': 'Bahrain', 'description': 'Things you do in your life can be done better by relaxation. It takes time to learn in your life, so never give up and keep trying.\\nWise writer! Barca fan', 'url': None, 'entities': {'description': {'urls': []}}, 'protected': False, 'followers_count': 102, 'friends_count': 72, 'listed_count': 0, 'created_at': 'Tue Aug 20 04:47:18 +0000 2019', 'favourites_count': 2885, 'utc_offset': None, 'time_zone': None, 'geo_enabled': False, 'verified': False, 'statuses_count': 4002, 'lang': None, 'contributors_enabled': False, 'is_translator': False, 'is_translation_enabled': False, 'profile_background_color': 'F5F8FA', 'profile_background_image_url': None, 'profile_background_image_url_https': None, 'profile_background_tile': False, 'profile_image_url': 'http://pbs.twimg.com/profile_images/1316773117201707014/nXxnkS7Q_normal.jpg', 'profile_image_url_https': 'https://pbs.twimg.com/profile_images/1316773117201707014/nXxnkS7Q_normal.jpg', 'profile_banner_url': 'https://pbs.twimg.com/profile_banners/1163673783544291328/1601173206', 'profile_link_color': '1DA1F2', 'profile_sidebar_border_color': 'C0DEED', 'profile_sidebar_fill_color': 'DDEEF6', 'profile_text_color': '333333', 'profile_use_background_image': True, 'has_extended_profile': False, 'default_profile': True, 'default_profile_image': False, 'following': False, 'follow_request_sent': False, 'notifications': False, 'translator_type': 'none'}, 'geo': None, 'coordinates': None, 'place': None, 'contributors': None, 'is_quote_status': False, 'retweet_count': 0, 'favorite_count': 0, 'favorited': False, 'retweeted': False, 'lang': 'en'}, created_at=datetime.datetime(2020, 11, 3, 22, 50, 56), id=1323759594280230912, id_str='1323759594280230912', full_text=\"@MichailBoris That's Imran Khan a great human being and the best leader! Modi is a killer an extreme butcher he's climbed a mountain of dead bodies of innocent Muslims for reaching this far and now that he's the PM of india this shows what kinda person they want a fascist!\", truncated=False, display_text_range=[14, 273], entities={'hashtags': [], 'symbols': [], 'user_mentions': [{'screen_name': 'MichailBoris', 'name': 'Michail Boris 🇷🇺', 'id': 1241016790483980295, 'id_str': '1241016790483980295', 'indices': [0, 13]}], 'urls': []}, metadata={'iso_language_code': 'en', 'result_type': 'recent'}, source='Twitter for Android', source_url='http://twitter.com/download/android', in_reply_to_status_id=1323521989584293889, in_reply_to_status_id_str='1323521989584293889', in_reply_to_user_id=1241016790483980295, in_reply_to_user_id_str='1241016790483980295', in_reply_to_screen_name='MichailBoris', author=User(_api=<tweepy.api.API object at 0x000001D7ABEDFA48>, _json={'id': 1163673783544291328, 'id_str': '1163673783544291328', 'name': 'Owais Sadiq', 'screen_name': 'Owaisadiq__10', 'location': 'Bahrain', 'description': 'Things you do in your life can be done better by relaxation. It takes time to learn in your life, so never give up and keep trying.\\nWise writer! Barca fan', 'url': None, 'entities': {'description': {'urls': []}}, 'protected': False, 'followers_count': 102, 'friends_count': 72, 'listed_count': 0, 'created_at': 'Tue Aug 20 04:47:18 +0000 2019', 'favourites_count': 2885, 'utc_offset': None, 'time_zone': None, 'geo_enabled': False, 'verified': False, 'statuses_count': 4002, 'lang': None, 'contributors_enabled': False, 'is_translator': False, 'is_translation_enabled': False, 'profile_background_color': 'F5F8FA', 'profile_background_image_url': None, 'profile_background_image_url_https': None, 'profile_background_tile': False, 'profile_image_url': 'http://pbs.twimg.com/profile_images/1316773117201707014/nXxnkS7Q_normal.jpg', 'profile_image_url_https': 'https://pbs.twimg.com/profile_images/1316773117201707014/nXxnkS7Q_normal.jpg', 'profile_banner_url': 'https://pbs.twimg.com/profile_banners/1163673783544291328/1601173206', 'profile_link_color': '1DA1F2', 'profile_sidebar_border_color': 'C0DEED', 'profile_sidebar_fill_color': 'DDEEF6', 'profile_text_color': '333333', 'profile_use_background_image': True, 'has_extended_profile': False, 'default_profile': True, 'default_profile_image': False, 'following': False, 'follow_request_sent': False, 'notifications': False, 'translator_type': 'none'}, id=1163673783544291328, id_str='1163673783544291328', name='Owais Sadiq', screen_name='Owaisadiq__10', location='Bahrain', description='Things you do in your life can be done better by relaxation. It takes time to learn in your life, so never give up and keep trying.\\nWise writer! Barca fan', url=None, entities={'description': {'urls': []}}, protected=False, followers_count=102, friends_count=72, listed_count=0, created_at=datetime.datetime(2019, 8, 20, 4, 47, 18), favourites_count=2885, utc_offset=None, time_zone=None, geo_enabled=False, verified=False, statuses_count=4002, lang=None, contributors_enabled=False, is_translator=False, is_translation_enabled=False, profile_background_color='F5F8FA', profile_background_image_url=None, profile_background_image_url_https=None, profile_background_tile=False, profile_image_url='http://pbs.twimg.com/profile_images/1316773117201707014/nXxnkS7Q_normal.jpg', profile_image_url_https='https://pbs.twimg.com/profile_images/1316773117201707014/nXxnkS7Q_normal.jpg', profile_banner_url='https://pbs.twimg.com/profile_banners/1163673783544291328/1601173206', profile_link_color='1DA1F2', profile_sidebar_border_color='C0DEED', profile_sidebar_fill_color='DDEEF6', profile_text_color='333333', profile_use_background_image=True, has_extended_profile=False, default_profile=True, default_profile_image=False, following=False, follow_request_sent=False, notifications=False, translator_type='none'), user=User(_api=<tweepy.api.API object at 0x000001D7ABEDFA48>, _json={'id': 1163673783544291328, 'id_str': '1163673783544291328', 'name': 'Owais Sadiq', 'screen_name': 'Owaisadiq__10', 'location': 'Bahrain', 'description': 'Things you do in your life can be done better by relaxation. It takes time to learn in your life, so never give up and keep trying.\\nWise writer! Barca fan', 'url': None, 'entities': {'description': {'urls': []}}, 'protected': False, 'followers_count': 102, 'friends_count': 72, 'listed_count': 0, 'created_at': 'Tue Aug 20 04:47:18 +0000 2019', 'favourites_count': 2885, 'utc_offset': None, 'time_zone': None, 'geo_enabled': False, 'verified': False, 'statuses_count': 4002, 'lang': None, 'contributors_enabled': False, 'is_translator': False, 'is_translation_enabled': False, 'profile_background_color': 'F5F8FA', 'profile_background_image_url': None, 'profile_background_image_url_https': None, 'profile_background_tile': False, 'profile_image_url': 'http://pbs.twimg.com/profile_images/1316773117201707014/nXxnkS7Q_normal.jpg', 'profile_image_url_https': 'https://pbs.twimg.com/profile_images/1316773117201707014/nXxnkS7Q_normal.jpg', 'profile_banner_url': 'https://pbs.twimg.com/profile_banners/1163673783544291328/1601173206', 'profile_link_color': '1DA1F2', 'profile_sidebar_border_color': 'C0DEED', 'profile_sidebar_fill_color': 'DDEEF6', 'profile_text_color': '333333', 'profile_use_background_image': True, 'has_extended_profile': False, 'default_profile': True, 'default_profile_image': False, 'following': False, 'follow_request_sent': False, 'notifications': False, 'translator_type': 'none'}, id=1163673783544291328, id_str='1163673783544291328', name='Owais Sadiq', screen_name='Owaisadiq__10', location='Bahrain', description='Things you do in your life can be done better by relaxation. It takes time to learn in your life, so never give up and keep trying.\\nWise writer! Barca fan', url=None, entities={'description': {'urls': []}}, protected=False, followers_count=102, friends_count=72, listed_count=0, created_at=datetime.datetime(2019, 8, 20, 4, 47, 18), favourites_count=2885, utc_offset=None, time_zone=None, geo_enabled=False, verified=False, statuses_count=4002, lang=None, contributors_enabled=False, is_translator=False, is_translation_enabled=False, profile_background_color='F5F8FA', profile_background_image_url=None, profile_background_image_url_https=None, profile_background_tile=False, profile_image_url='http://pbs.twimg.com/profile_images/1316773117201707014/nXxnkS7Q_normal.jpg', profile_image_url_https='https://pbs.twimg.com/profile_images/1316773117201707014/nXxnkS7Q_normal.jpg', profile_banner_url='https://pbs.twimg.com/profile_banners/1163673783544291328/1601173206', profile_link_color='1DA1F2', profile_sidebar_border_color='C0DEED', profile_sidebar_fill_color='DDEEF6', profile_text_color='333333', profile_use_background_image=True, has_extended_profile=False, default_profile=True, default_profile_image=False, following=False, follow_request_sent=False, notifications=False, translator_type='none'), geo=None, coordinates=None, place=None, contributors=None, is_quote_status=False, retweet_count=0, favorite_count=0, favorited=False, retweeted=False, lang='en') \n",
      "\n",
      ".....................................\n",
      "\n",
      "Status(_api=<tweepy.api.API object at 0x000001D7ABEDFA48>, _json={'created_at': 'Mon Nov 02 11:56:46 +0000 2020', 'id': 1323232582918500354, 'id_str': '1323232582918500354', 'full_text': '@zoo_bear @narendramodi @nitin_gadkari He has a phenomenal record in being an amazing duffer. Not for nothing he gets the fb from his God.\\n\\nThat God was the best joke he had cracked when he announced Modi is 11th Avatar of Lord Vishnu. Super talent!👍\\nhttps://t.co/6CGRaKCmgS', 'truncated': False, 'display_text_range': [39, 274], 'entities': {'hashtags': [], 'symbols': [], 'user_mentions': [{'screen_name': 'zoo_bear', 'name': 'Mohammed Zubair', 'id': 935142655213703168, 'id_str': '935142655213703168', 'indices': [0, 9]}, {'screen_name': 'narendramodi', 'name': 'Narendra Modi', 'id': 18839785, 'id_str': '18839785', 'indices': [10, 23]}, {'screen_name': 'nitin_gadkari', 'name': 'Nitin Gadkari', 'id': 97217966, 'id_str': '97217966', 'indices': [24, 38]}], 'urls': [{'url': 'https://t.co/6CGRaKCmgS', 'expanded_url': 'https://www.ndtv.com/india-news/pm-modi-is-11th-avatar-of-lord-vishnu-maharashtra-bjp-leader-avadhut-wagh-1931272', 'display_url': 'ndtv.com/india-news/pm-…', 'indices': [251, 274]}]}, 'metadata': {'iso_language_code': 'en', 'result_type': 'recent'}, 'source': '<a href=\"https://mobile.twitter.com\" rel=\"nofollow\">Twitter Web App</a>', 'in_reply_to_status_id': 1323220599976570880, 'in_reply_to_status_id_str': '1323220599976570880', 'in_reply_to_user_id': 935142655213703168, 'in_reply_to_user_id_str': '935142655213703168', 'in_reply_to_screen_name': 'zoo_bear', 'user': {'id': 93147538, 'id_str': '93147538', 'name': 'Ved Nayak', 'screen_name': 'catcheronthesly', 'location': 'Bengaluru, India', 'description': 'Not beHolden to anything..so far.', 'url': None, 'entities': {'description': {'urls': []}}, 'protected': False, 'followers_count': 235, 'friends_count': 383, 'listed_count': 1, 'created_at': 'Sat Nov 28 08:45:56 +0000 2009', 'favourites_count': 5484, 'utc_offset': None, 'time_zone': None, 'geo_enabled': False, 'verified': False, 'statuses_count': 19382, 'lang': None, 'contributors_enabled': False, 'is_translator': False, 'is_translation_enabled': False, 'profile_background_color': 'C0DEED', 'profile_background_image_url': 'http://abs.twimg.com/images/themes/theme1/bg.png', 'profile_background_image_url_https': 'https://abs.twimg.com/images/themes/theme1/bg.png', 'profile_background_tile': False, 'profile_image_url': 'http://pbs.twimg.com/profile_images/1039021418871238656/FdFyg21r_normal.jpg', 'profile_image_url_https': 'https://pbs.twimg.com/profile_images/1039021418871238656/FdFyg21r_normal.jpg', 'profile_banner_url': 'https://pbs.twimg.com/profile_banners/93147538/1491033802', 'profile_link_color': '1DA1F2', 'profile_sidebar_border_color': 'C0DEED', 'profile_sidebar_fill_color': 'DDEEF6', 'profile_text_color': '333333', 'profile_use_background_image': True, 'has_extended_profile': True, 'default_profile': True, 'default_profile_image': False, 'following': False, 'follow_request_sent': False, 'notifications': False, 'translator_type': 'none'}, 'geo': None, 'coordinates': None, 'place': None, 'contributors': None, 'is_quote_status': False, 'retweet_count': 0, 'favorite_count': 6, 'favorited': False, 'retweeted': False, 'possibly_sensitive': False, 'lang': 'en'}, created_at=datetime.datetime(2020, 11, 2, 11, 56, 46), id=1323232582918500354, id_str='1323232582918500354', full_text='@zoo_bear @narendramodi @nitin_gadkari He has a phenomenal record in being an amazing duffer. Not for nothing he gets the fb from his God.\\n\\nThat God was the best joke he had cracked when he announced Modi is 11th Avatar of Lord Vishnu. Super talent!👍\\nhttps://t.co/6CGRaKCmgS', truncated=False, display_text_range=[39, 274], entities={'hashtags': [], 'symbols': [], 'user_mentions': [{'screen_name': 'zoo_bear', 'name': 'Mohammed Zubair', 'id': 935142655213703168, 'id_str': '935142655213703168', 'indices': [0, 9]}, {'screen_name': 'narendramodi', 'name': 'Narendra Modi', 'id': 18839785, 'id_str': '18839785', 'indices': [10, 23]}, {'screen_name': 'nitin_gadkari', 'name': 'Nitin Gadkari', 'id': 97217966, 'id_str': '97217966', 'indices': [24, 38]}], 'urls': [{'url': 'https://t.co/6CGRaKCmgS', 'expanded_url': 'https://www.ndtv.com/india-news/pm-modi-is-11th-avatar-of-lord-vishnu-maharashtra-bjp-leader-avadhut-wagh-1931272', 'display_url': 'ndtv.com/india-news/pm-…', 'indices': [251, 274]}]}, metadata={'iso_language_code': 'en', 'result_type': 'recent'}, source='Twitter Web App', source_url='https://mobile.twitter.com', in_reply_to_status_id=1323220599976570880, in_reply_to_status_id_str='1323220599976570880', in_reply_to_user_id=935142655213703168, in_reply_to_user_id_str='935142655213703168', in_reply_to_screen_name='zoo_bear', author=User(_api=<tweepy.api.API object at 0x000001D7ABEDFA48>, _json={'id': 93147538, 'id_str': '93147538', 'name': 'Ved Nayak', 'screen_name': 'catcheronthesly', 'location': 'Bengaluru, India', 'description': 'Not beHolden to anything..so far.', 'url': None, 'entities': {'description': {'urls': []}}, 'protected': False, 'followers_count': 235, 'friends_count': 383, 'listed_count': 1, 'created_at': 'Sat Nov 28 08:45:56 +0000 2009', 'favourites_count': 5484, 'utc_offset': None, 'time_zone': None, 'geo_enabled': False, 'verified': False, 'statuses_count': 19382, 'lang': None, 'contributors_enabled': False, 'is_translator': False, 'is_translation_enabled': False, 'profile_background_color': 'C0DEED', 'profile_background_image_url': 'http://abs.twimg.com/images/themes/theme1/bg.png', 'profile_background_image_url_https': 'https://abs.twimg.com/images/themes/theme1/bg.png', 'profile_background_tile': False, 'profile_image_url': 'http://pbs.twimg.com/profile_images/1039021418871238656/FdFyg21r_normal.jpg', 'profile_image_url_https': 'https://pbs.twimg.com/profile_images/1039021418871238656/FdFyg21r_normal.jpg', 'profile_banner_url': 'https://pbs.twimg.com/profile_banners/93147538/1491033802', 'profile_link_color': '1DA1F2', 'profile_sidebar_border_color': 'C0DEED', 'profile_sidebar_fill_color': 'DDEEF6', 'profile_text_color': '333333', 'profile_use_background_image': True, 'has_extended_profile': True, 'default_profile': True, 'default_profile_image': False, 'following': False, 'follow_request_sent': False, 'notifications': False, 'translator_type': 'none'}, id=93147538, id_str='93147538', name='Ved Nayak', screen_name='catcheronthesly', location='Bengaluru, India', description='Not beHolden to anything..so far.', url=None, entities={'description': {'urls': []}}, protected=False, followers_count=235, friends_count=383, listed_count=1, created_at=datetime.datetime(2009, 11, 28, 8, 45, 56), favourites_count=5484, utc_offset=None, time_zone=None, geo_enabled=False, verified=False, statuses_count=19382, lang=None, contributors_enabled=False, is_translator=False, is_translation_enabled=False, profile_background_color='C0DEED', profile_background_image_url='http://abs.twimg.com/images/themes/theme1/bg.png', profile_background_image_url_https='https://abs.twimg.com/images/themes/theme1/bg.png', profile_background_tile=False, profile_image_url='http://pbs.twimg.com/profile_images/1039021418871238656/FdFyg21r_normal.jpg', profile_image_url_https='https://pbs.twimg.com/profile_images/1039021418871238656/FdFyg21r_normal.jpg', profile_banner_url='https://pbs.twimg.com/profile_banners/93147538/1491033802', profile_link_color='1DA1F2', profile_sidebar_border_color='C0DEED', profile_sidebar_fill_color='DDEEF6', profile_text_color='333333', profile_use_background_image=True, has_extended_profile=True, default_profile=True, default_profile_image=False, following=False, follow_request_sent=False, notifications=False, translator_type='none'), user=User(_api=<tweepy.api.API object at 0x000001D7ABEDFA48>, _json={'id': 93147538, 'id_str': '93147538', 'name': 'Ved Nayak', 'screen_name': 'catcheronthesly', 'location': 'Bengaluru, India', 'description': 'Not beHolden to anything..so far.', 'url': None, 'entities': {'description': {'urls': []}}, 'protected': False, 'followers_count': 235, 'friends_count': 383, 'listed_count': 1, 'created_at': 'Sat Nov 28 08:45:56 +0000 2009', 'favourites_count': 5484, 'utc_offset': None, 'time_zone': None, 'geo_enabled': False, 'verified': False, 'statuses_count': 19382, 'lang': None, 'contributors_enabled': False, 'is_translator': False, 'is_translation_enabled': False, 'profile_background_color': 'C0DEED', 'profile_background_image_url': 'http://abs.twimg.com/images/themes/theme1/bg.png', 'profile_background_image_url_https': 'https://abs.twimg.com/images/themes/theme1/bg.png', 'profile_background_tile': False, 'profile_image_url': 'http://pbs.twimg.com/profile_images/1039021418871238656/FdFyg21r_normal.jpg', 'profile_image_url_https': 'https://pbs.twimg.com/profile_images/1039021418871238656/FdFyg21r_normal.jpg', 'profile_banner_url': 'https://pbs.twimg.com/profile_banners/93147538/1491033802', 'profile_link_color': '1DA1F2', 'profile_sidebar_border_color': 'C0DEED', 'profile_sidebar_fill_color': 'DDEEF6', 'profile_text_color': '333333', 'profile_use_background_image': True, 'has_extended_profile': True, 'default_profile': True, 'default_profile_image': False, 'following': False, 'follow_request_sent': False, 'notifications': False, 'translator_type': 'none'}, id=93147538, id_str='93147538', name='Ved Nayak', screen_name='catcheronthesly', location='Bengaluru, India', description='Not beHolden to anything..so far.', url=None, entities={'description': {'urls': []}}, protected=False, followers_count=235, friends_count=383, listed_count=1, created_at=datetime.datetime(2009, 11, 28, 8, 45, 56), favourites_count=5484, utc_offset=None, time_zone=None, geo_enabled=False, verified=False, statuses_count=19382, lang=None, contributors_enabled=False, is_translator=False, is_translation_enabled=False, profile_background_color='C0DEED', profile_background_image_url='http://abs.twimg.com/images/themes/theme1/bg.png', profile_background_image_url_https='https://abs.twimg.com/images/themes/theme1/bg.png', profile_background_tile=False, profile_image_url='http://pbs.twimg.com/profile_images/1039021418871238656/FdFyg21r_normal.jpg', profile_image_url_https='https://pbs.twimg.com/profile_images/1039021418871238656/FdFyg21r_normal.jpg', profile_banner_url='https://pbs.twimg.com/profile_banners/93147538/1491033802', profile_link_color='1DA1F2', profile_sidebar_border_color='C0DEED', profile_sidebar_fill_color='DDEEF6', profile_text_color='333333', profile_use_background_image=True, has_extended_profile=True, default_profile=True, default_profile_image=False, following=False, follow_request_sent=False, notifications=False, translator_type='none'), geo=None, coordinates=None, place=None, contributors=None, is_quote_status=False, retweet_count=0, favorite_count=6, favorited=False, retweeted=False, possibly_sensitive=False, lang='en') \n",
      "\n",
      ".....................................\n",
      "\n",
      "Status(_api=<tweepy.api.API object at 0x000001D7ABEDFA48>, _json={'created_at': 'Sun Nov 01 16:39:05 +0000 2020', 'id': 1322941241072390144, 'id_str': '1322941241072390144', 'full_text': '@BeingSalmanKhan @zoamorani @ZEE5Premium Indians is a great country .Har Har madev .Great PM and one of the best PM and a world leader Sri Narender Sing  Modi', 'truncated': False, 'display_text_range': [41, 158], 'entities': {'hashtags': [], 'symbols': [], 'user_mentions': [{'screen_name': 'BeingSalmanKhan', 'name': 'Salman Khan', 'id': 132385468, 'id_str': '132385468', 'indices': [0, 16]}, {'screen_name': 'zoamorani', 'name': 'Zoa Morani', 'id': 3308485446, 'id_str': '3308485446', 'indices': [17, 27]}, {'screen_name': 'ZEE5Premium', 'name': 'ZEE5Premium', 'id': 1059131334646480898, 'id_str': '1059131334646480898', 'indices': [28, 40]}], 'urls': []}, 'metadata': {'iso_language_code': 'en', 'result_type': 'recent'}, 'source': '<a href=\"http://twitter.com/download/android\" rel=\"nofollow\">Twitter for Android</a>', 'in_reply_to_status_id': 1321685746051284992, 'in_reply_to_status_id_str': '1321685746051284992', 'in_reply_to_user_id': 132385468, 'in_reply_to_user_id_str': '132385468', 'in_reply_to_screen_name': 'BeingSalmanKhan', 'user': {'id': 1183029034046746629, 'id_str': '1183029034046746629', 'name': 'UNITED RESIDENTS WELFARE ADDRESSAL(URWA)', 'screen_name': 'unitedresdntwel', 'location': 'India', 'description': 'Freelance writer /reporter,safety&security of women,addressing residential issues.', 'url': 'https://t.co/16n6Z1VOmU', 'entities': {'url': {'urls': [{'url': 'https://t.co/16n6Z1VOmU', 'expanded_url': 'https://www.zewsnewsos.com', 'display_url': 'zewsnewsos.com', 'indices': [0, 23]}]}, 'description': {'urls': []}}, 'protected': False, 'followers_count': 88, 'friends_count': 1569, 'listed_count': 0, 'created_at': 'Sat Oct 12 14:38:25 +0000 2019', 'favourites_count': 15, 'utc_offset': None, 'time_zone': None, 'geo_enabled': True, 'verified': False, 'statuses_count': 224, 'lang': None, 'contributors_enabled': False, 'is_translator': False, 'is_translation_enabled': False, 'profile_background_color': 'F5F8FA', 'profile_background_image_url': None, 'profile_background_image_url_https': None, 'profile_background_tile': False, 'profile_image_url': 'http://pbs.twimg.com/profile_images/1183030173815332865/M8dkiY39_normal.jpg', 'profile_image_url_https': 'https://pbs.twimg.com/profile_images/1183030173815332865/M8dkiY39_normal.jpg', 'profile_link_color': '1DA1F2', 'profile_sidebar_border_color': 'C0DEED', 'profile_sidebar_fill_color': 'DDEEF6', 'profile_text_color': '333333', 'profile_use_background_image': True, 'has_extended_profile': True, 'default_profile': True, 'default_profile_image': False, 'following': False, 'follow_request_sent': False, 'notifications': False, 'translator_type': 'none'}, 'geo': None, 'coordinates': None, 'place': None, 'contributors': None, 'is_quote_status': False, 'retweet_count': 0, 'favorite_count': 0, 'favorited': False, 'retweeted': False, 'lang': 'en'}, created_at=datetime.datetime(2020, 11, 1, 16, 39, 5), id=1322941241072390144, id_str='1322941241072390144', full_text='@BeingSalmanKhan @zoamorani @ZEE5Premium Indians is a great country .Har Har madev .Great PM and one of the best PM and a world leader Sri Narender Sing  Modi', truncated=False, display_text_range=[41, 158], entities={'hashtags': [], 'symbols': [], 'user_mentions': [{'screen_name': 'BeingSalmanKhan', 'name': 'Salman Khan', 'id': 132385468, 'id_str': '132385468', 'indices': [0, 16]}, {'screen_name': 'zoamorani', 'name': 'Zoa Morani', 'id': 3308485446, 'id_str': '3308485446', 'indices': [17, 27]}, {'screen_name': 'ZEE5Premium', 'name': 'ZEE5Premium', 'id': 1059131334646480898, 'id_str': '1059131334646480898', 'indices': [28, 40]}], 'urls': []}, metadata={'iso_language_code': 'en', 'result_type': 'recent'}, source='Twitter for Android', source_url='http://twitter.com/download/android', in_reply_to_status_id=1321685746051284992, in_reply_to_status_id_str='1321685746051284992', in_reply_to_user_id=132385468, in_reply_to_user_id_str='132385468', in_reply_to_screen_name='BeingSalmanKhan', author=User(_api=<tweepy.api.API object at 0x000001D7ABEDFA48>, _json={'id': 1183029034046746629, 'id_str': '1183029034046746629', 'name': 'UNITED RESIDENTS WELFARE ADDRESSAL(URWA)', 'screen_name': 'unitedresdntwel', 'location': 'India', 'description': 'Freelance writer /reporter,safety&security of women,addressing residential issues.', 'url': 'https://t.co/16n6Z1VOmU', 'entities': {'url': {'urls': [{'url': 'https://t.co/16n6Z1VOmU', 'expanded_url': 'https://www.zewsnewsos.com', 'display_url': 'zewsnewsos.com', 'indices': [0, 23]}]}, 'description': {'urls': []}}, 'protected': False, 'followers_count': 88, 'friends_count': 1569, 'listed_count': 0, 'created_at': 'Sat Oct 12 14:38:25 +0000 2019', 'favourites_count': 15, 'utc_offset': None, 'time_zone': None, 'geo_enabled': True, 'verified': False, 'statuses_count': 224, 'lang': None, 'contributors_enabled': False, 'is_translator': False, 'is_translation_enabled': False, 'profile_background_color': 'F5F8FA', 'profile_background_image_url': None, 'profile_background_image_url_https': None, 'profile_background_tile': False, 'profile_image_url': 'http://pbs.twimg.com/profile_images/1183030173815332865/M8dkiY39_normal.jpg', 'profile_image_url_https': 'https://pbs.twimg.com/profile_images/1183030173815332865/M8dkiY39_normal.jpg', 'profile_link_color': '1DA1F2', 'profile_sidebar_border_color': 'C0DEED', 'profile_sidebar_fill_color': 'DDEEF6', 'profile_text_color': '333333', 'profile_use_background_image': True, 'has_extended_profile': True, 'default_profile': True, 'default_profile_image': False, 'following': False, 'follow_request_sent': False, 'notifications': False, 'translator_type': 'none'}, id=1183029034046746629, id_str='1183029034046746629', name='UNITED RESIDENTS WELFARE ADDRESSAL(URWA)', screen_name='unitedresdntwel', location='India', description='Freelance writer /reporter,safety&security of women,addressing residential issues.', url='https://t.co/16n6Z1VOmU', entities={'url': {'urls': [{'url': 'https://t.co/16n6Z1VOmU', 'expanded_url': 'https://www.zewsnewsos.com', 'display_url': 'zewsnewsos.com', 'indices': [0, 23]}]}, 'description': {'urls': []}}, protected=False, followers_count=88, friends_count=1569, listed_count=0, created_at=datetime.datetime(2019, 10, 12, 14, 38, 25), favourites_count=15, utc_offset=None, time_zone=None, geo_enabled=True, verified=False, statuses_count=224, lang=None, contributors_enabled=False, is_translator=False, is_translation_enabled=False, profile_background_color='F5F8FA', profile_background_image_url=None, profile_background_image_url_https=None, profile_background_tile=False, profile_image_url='http://pbs.twimg.com/profile_images/1183030173815332865/M8dkiY39_normal.jpg', profile_image_url_https='https://pbs.twimg.com/profile_images/1183030173815332865/M8dkiY39_normal.jpg', profile_link_color='1DA1F2', profile_sidebar_border_color='C0DEED', profile_sidebar_fill_color='DDEEF6', profile_text_color='333333', profile_use_background_image=True, has_extended_profile=True, default_profile=True, default_profile_image=False, following=False, follow_request_sent=False, notifications=False, translator_type='none'), user=User(_api=<tweepy.api.API object at 0x000001D7ABEDFA48>, _json={'id': 1183029034046746629, 'id_str': '1183029034046746629', 'name': 'UNITED RESIDENTS WELFARE ADDRESSAL(URWA)', 'screen_name': 'unitedresdntwel', 'location': 'India', 'description': 'Freelance writer /reporter,safety&security of women,addressing residential issues.', 'url': 'https://t.co/16n6Z1VOmU', 'entities': {'url': {'urls': [{'url': 'https://t.co/16n6Z1VOmU', 'expanded_url': 'https://www.zewsnewsos.com', 'display_url': 'zewsnewsos.com', 'indices': [0, 23]}]}, 'description': {'urls': []}}, 'protected': False, 'followers_count': 88, 'friends_count': 1569, 'listed_count': 0, 'created_at': 'Sat Oct 12 14:38:25 +0000 2019', 'favourites_count': 15, 'utc_offset': None, 'time_zone': None, 'geo_enabled': True, 'verified': False, 'statuses_count': 224, 'lang': None, 'contributors_enabled': False, 'is_translator': False, 'is_translation_enabled': False, 'profile_background_color': 'F5F8FA', 'profile_background_image_url': None, 'profile_background_image_url_https': None, 'profile_background_tile': False, 'profile_image_url': 'http://pbs.twimg.com/profile_images/1183030173815332865/M8dkiY39_normal.jpg', 'profile_image_url_https': 'https://pbs.twimg.com/profile_images/1183030173815332865/M8dkiY39_normal.jpg', 'profile_link_color': '1DA1F2', 'profile_sidebar_border_color': 'C0DEED', 'profile_sidebar_fill_color': 'DDEEF6', 'profile_text_color': '333333', 'profile_use_background_image': True, 'has_extended_profile': True, 'default_profile': True, 'default_profile_image': False, 'following': False, 'follow_request_sent': False, 'notifications': False, 'translator_type': 'none'}, id=1183029034046746629, id_str='1183029034046746629', name='UNITED RESIDENTS WELFARE ADDRESSAL(URWA)', screen_name='unitedresdntwel', location='India', description='Freelance writer /reporter,safety&security of women,addressing residential issues.', url='https://t.co/16n6Z1VOmU', entities={'url': {'urls': [{'url': 'https://t.co/16n6Z1VOmU', 'expanded_url': 'https://www.zewsnewsos.com', 'display_url': 'zewsnewsos.com', 'indices': [0, 23]}]}, 'description': {'urls': []}}, protected=False, followers_count=88, friends_count=1569, listed_count=0, created_at=datetime.datetime(2019, 10, 12, 14, 38, 25), favourites_count=15, utc_offset=None, time_zone=None, geo_enabled=True, verified=False, statuses_count=224, lang=None, contributors_enabled=False, is_translator=False, is_translation_enabled=False, profile_background_color='F5F8FA', profile_background_image_url=None, profile_background_image_url_https=None, profile_background_tile=False, profile_image_url='http://pbs.twimg.com/profile_images/1183030173815332865/M8dkiY39_normal.jpg', profile_image_url_https='https://pbs.twimg.com/profile_images/1183030173815332865/M8dkiY39_normal.jpg', profile_link_color='1DA1F2', profile_sidebar_border_color='C0DEED', profile_sidebar_fill_color='DDEEF6', profile_text_color='333333', profile_use_background_image=True, has_extended_profile=True, default_profile=True, default_profile_image=False, following=False, follow_request_sent=False, notifications=False, translator_type='none'), geo=None, coordinates=None, place=None, contributors=None, is_quote_status=False, retweet_count=0, favorite_count=0, favorited=False, retweeted=False, lang='en') \n",
      "\n",
      ".....................................\n",
      "\n",
      "Status(_api=<tweepy.api.API object at 0x000001D7ABEDFA48>, _json={'created_at': 'Fri Oct 30 03:21:55 +0000 2020', 'id': 1322015849755025408, 'id_str': '1322015849755025408', 'full_text': \"@CliffSmithZBRDZ @AartiTikoo @TarekFatah @RahulGandhi Rahul gandhi is a shit,we don't like him...\\nWe love our PM Narendra modi ji he is the best leader...that's why we support BJP\", 'truncated': False, 'display_text_range': [54, 179], 'entities': {'hashtags': [], 'symbols': [], 'user_mentions': [{'screen_name': 'CliffSmithZBRDZ', 'name': 'Clifford Smith', 'id': 222286514, 'id_str': '222286514', 'indices': [0, 16]}, {'screen_name': 'AartiTikoo', 'name': 'Aarti Tikoo Singh', 'id': 2933823062, 'id_str': '2933823062', 'indices': [17, 28]}, {'screen_name': 'TarekFatah', 'name': 'Tarek Fatah', 'id': 17537467, 'id_str': '17537467', 'indices': [29, 40]}, {'screen_name': 'RahulGandhi', 'name': 'Rahul Gandhi', 'id': 3171712086, 'id_str': '3171712086', 'indices': [41, 53]}], 'urls': []}, 'metadata': {'iso_language_code': 'en', 'result_type': 'recent'}, 'source': '<a href=\"http://twitter.com/download/android\" rel=\"nofollow\">Twitter for Android</a>', 'in_reply_to_status_id': 1321917995535507457, 'in_reply_to_status_id_str': '1321917995535507457', 'in_reply_to_user_id': 222286514, 'in_reply_to_user_id_str': '222286514', 'in_reply_to_screen_name': 'CliffSmithZBRDZ', 'user': {'id': 1282323036125843456, 'id_str': '1282323036125843456', 'name': 'Shristi Mishra', 'screen_name': 'Shristi13112196', 'location': '', 'description': 'Proud Indian🇮🇳🇮🇳\\nStudent..!!👩\\u200d🎓👩\\u200d🎓', 'url': None, 'entities': {'description': {'urls': []}}, 'protected': False, 'followers_count': 152, 'friends_count': 281, 'listed_count': 0, 'created_at': 'Sun Jul 12 14:37:05 +0000 2020', 'favourites_count': 31830, 'utc_offset': None, 'time_zone': None, 'geo_enabled': False, 'verified': False, 'statuses_count': 4218, 'lang': None, 'contributors_enabled': False, 'is_translator': False, 'is_translation_enabled': False, 'profile_background_color': 'F5F8FA', 'profile_background_image_url': None, 'profile_background_image_url_https': None, 'profile_background_tile': False, 'profile_image_url': 'http://pbs.twimg.com/profile_images/1323984706946256896/Jz23eCIu_normal.jpg', 'profile_image_url_https': 'https://pbs.twimg.com/profile_images/1323984706946256896/Jz23eCIu_normal.jpg', 'profile_banner_url': 'https://pbs.twimg.com/profile_banners/1282323036125843456/1597470946', 'profile_link_color': '1DA1F2', 'profile_sidebar_border_color': 'C0DEED', 'profile_sidebar_fill_color': 'DDEEF6', 'profile_text_color': '333333', 'profile_use_background_image': True, 'has_extended_profile': True, 'default_profile': True, 'default_profile_image': False, 'following': False, 'follow_request_sent': False, 'notifications': False, 'translator_type': 'none'}, 'geo': None, 'coordinates': None, 'place': None, 'contributors': None, 'is_quote_status': False, 'retweet_count': 0, 'favorite_count': 0, 'favorited': False, 'retweeted': False, 'lang': 'en'}, created_at=datetime.datetime(2020, 10, 30, 3, 21, 55), id=1322015849755025408, id_str='1322015849755025408', full_text=\"@CliffSmithZBRDZ @AartiTikoo @TarekFatah @RahulGandhi Rahul gandhi is a shit,we don't like him...\\nWe love our PM Narendra modi ji he is the best leader...that's why we support BJP\", truncated=False, display_text_range=[54, 179], entities={'hashtags': [], 'symbols': [], 'user_mentions': [{'screen_name': 'CliffSmithZBRDZ', 'name': 'Clifford Smith', 'id': 222286514, 'id_str': '222286514', 'indices': [0, 16]}, {'screen_name': 'AartiTikoo', 'name': 'Aarti Tikoo Singh', 'id': 2933823062, 'id_str': '2933823062', 'indices': [17, 28]}, {'screen_name': 'TarekFatah', 'name': 'Tarek Fatah', 'id': 17537467, 'id_str': '17537467', 'indices': [29, 40]}, {'screen_name': 'RahulGandhi', 'name': 'Rahul Gandhi', 'id': 3171712086, 'id_str': '3171712086', 'indices': [41, 53]}], 'urls': []}, metadata={'iso_language_code': 'en', 'result_type': 'recent'}, source='Twitter for Android', source_url='http://twitter.com/download/android', in_reply_to_status_id=1321917995535507457, in_reply_to_status_id_str='1321917995535507457', in_reply_to_user_id=222286514, in_reply_to_user_id_str='222286514', in_reply_to_screen_name='CliffSmithZBRDZ', author=User(_api=<tweepy.api.API object at 0x000001D7ABEDFA48>, _json={'id': 1282323036125843456, 'id_str': '1282323036125843456', 'name': 'Shristi Mishra', 'screen_name': 'Shristi13112196', 'location': '', 'description': 'Proud Indian🇮🇳🇮🇳\\nStudent..!!👩\\u200d🎓👩\\u200d🎓', 'url': None, 'entities': {'description': {'urls': []}}, 'protected': False, 'followers_count': 152, 'friends_count': 281, 'listed_count': 0, 'created_at': 'Sun Jul 12 14:37:05 +0000 2020', 'favourites_count': 31830, 'utc_offset': None, 'time_zone': None, 'geo_enabled': False, 'verified': False, 'statuses_count': 4218, 'lang': None, 'contributors_enabled': False, 'is_translator': False, 'is_translation_enabled': False, 'profile_background_color': 'F5F8FA', 'profile_background_image_url': None, 'profile_background_image_url_https': None, 'profile_background_tile': False, 'profile_image_url': 'http://pbs.twimg.com/profile_images/1323984706946256896/Jz23eCIu_normal.jpg', 'profile_image_url_https': 'https://pbs.twimg.com/profile_images/1323984706946256896/Jz23eCIu_normal.jpg', 'profile_banner_url': 'https://pbs.twimg.com/profile_banners/1282323036125843456/1597470946', 'profile_link_color': '1DA1F2', 'profile_sidebar_border_color': 'C0DEED', 'profile_sidebar_fill_color': 'DDEEF6', 'profile_text_color': '333333', 'profile_use_background_image': True, 'has_extended_profile': True, 'default_profile': True, 'default_profile_image': False, 'following': False, 'follow_request_sent': False, 'notifications': False, 'translator_type': 'none'}, id=1282323036125843456, id_str='1282323036125843456', name='Shristi Mishra', screen_name='Shristi13112196', location='', description='Proud Indian🇮🇳🇮🇳\\nStudent..!!👩\\u200d🎓👩\\u200d🎓', url=None, entities={'description': {'urls': []}}, protected=False, followers_count=152, friends_count=281, listed_count=0, created_at=datetime.datetime(2020, 7, 12, 14, 37, 5), favourites_count=31830, utc_offset=None, time_zone=None, geo_enabled=False, verified=False, statuses_count=4218, lang=None, contributors_enabled=False, is_translator=False, is_translation_enabled=False, profile_background_color='F5F8FA', profile_background_image_url=None, profile_background_image_url_https=None, profile_background_tile=False, profile_image_url='http://pbs.twimg.com/profile_images/1323984706946256896/Jz23eCIu_normal.jpg', profile_image_url_https='https://pbs.twimg.com/profile_images/1323984706946256896/Jz23eCIu_normal.jpg', profile_banner_url='https://pbs.twimg.com/profile_banners/1282323036125843456/1597470946', profile_link_color='1DA1F2', profile_sidebar_border_color='C0DEED', profile_sidebar_fill_color='DDEEF6', profile_text_color='333333', profile_use_background_image=True, has_extended_profile=True, default_profile=True, default_profile_image=False, following=False, follow_request_sent=False, notifications=False, translator_type='none'), user=User(_api=<tweepy.api.API object at 0x000001D7ABEDFA48>, _json={'id': 1282323036125843456, 'id_str': '1282323036125843456', 'name': 'Shristi Mishra', 'screen_name': 'Shristi13112196', 'location': '', 'description': 'Proud Indian🇮🇳🇮🇳\\nStudent..!!👩\\u200d🎓👩\\u200d🎓', 'url': None, 'entities': {'description': {'urls': []}}, 'protected': False, 'followers_count': 152, 'friends_count': 281, 'listed_count': 0, 'created_at': 'Sun Jul 12 14:37:05 +0000 2020', 'favourites_count': 31830, 'utc_offset': None, 'time_zone': None, 'geo_enabled': False, 'verified': False, 'statuses_count': 4218, 'lang': None, 'contributors_enabled': False, 'is_translator': False, 'is_translation_enabled': False, 'profile_background_color': 'F5F8FA', 'profile_background_image_url': None, 'profile_background_image_url_https': None, 'profile_background_tile': False, 'profile_image_url': 'http://pbs.twimg.com/profile_images/1323984706946256896/Jz23eCIu_normal.jpg', 'profile_image_url_https': 'https://pbs.twimg.com/profile_images/1323984706946256896/Jz23eCIu_normal.jpg', 'profile_banner_url': 'https://pbs.twimg.com/profile_banners/1282323036125843456/1597470946', 'profile_link_color': '1DA1F2', 'profile_sidebar_border_color': 'C0DEED', 'profile_sidebar_fill_color': 'DDEEF6', 'profile_text_color': '333333', 'profile_use_background_image': True, 'has_extended_profile': True, 'default_profile': True, 'default_profile_image': False, 'following': False, 'follow_request_sent': False, 'notifications': False, 'translator_type': 'none'}, id=1282323036125843456, id_str='1282323036125843456', name='Shristi Mishra', screen_name='Shristi13112196', location='', description='Proud Indian🇮🇳🇮🇳\\nStudent..!!👩\\u200d🎓👩\\u200d🎓', url=None, entities={'description': {'urls': []}}, protected=False, followers_count=152, friends_count=281, listed_count=0, created_at=datetime.datetime(2020, 7, 12, 14, 37, 5), favourites_count=31830, utc_offset=None, time_zone=None, geo_enabled=False, verified=False, statuses_count=4218, lang=None, contributors_enabled=False, is_translator=False, is_translation_enabled=False, profile_background_color='F5F8FA', profile_background_image_url=None, profile_background_image_url_https=None, profile_background_tile=False, profile_image_url='http://pbs.twimg.com/profile_images/1323984706946256896/Jz23eCIu_normal.jpg', profile_image_url_https='https://pbs.twimg.com/profile_images/1323984706946256896/Jz23eCIu_normal.jpg', profile_banner_url='https://pbs.twimg.com/profile_banners/1282323036125843456/1597470946', profile_link_color='1DA1F2', profile_sidebar_border_color='C0DEED', profile_sidebar_fill_color='DDEEF6', profile_text_color='333333', profile_use_background_image=True, has_extended_profile=True, default_profile=True, default_profile_image=False, following=False, follow_request_sent=False, notifications=False, translator_type='none'), geo=None, coordinates=None, place=None, contributors=None, is_quote_status=False, retweet_count=0, favorite_count=0, favorited=False, retweeted=False, lang='en') \n",
      "\n",
      ".....................................\n",
      "\n",
      "Status(_api=<tweepy.api.API object at 0x000001D7ABEDFA48>, _json={'created_at': 'Wed Oct 28 03:49:26 +0000 2020', 'id': 1321298001458061318, 'id_str': '1321298001458061318', 'full_text': 'What India needs is a leader steeped in kshatra spirit to protect our culture, interest, lives and legacy. A sanyasi is not fit to be a PM. At best he can be an advisor. There is a serious mismatch between the job role of a leader of the nation and the natural svabhava of Modi ji https://t.co/bIxpqEeW2B', 'truncated': False, 'display_text_range': [0, 280], 'entities': {'hashtags': [], 'symbols': [], 'user_mentions': [], 'urls': [{'url': 'https://t.co/bIxpqEeW2B', 'expanded_url': 'https://twitter.com/vschanna/status/1321296515495792640', 'display_url': 'twitter.com/vschanna/statu…', 'indices': [281, 304]}]}, 'metadata': {'iso_language_code': 'en', 'result_type': 'recent'}, 'source': '<a href=\"http://twitter.com/download/android\" rel=\"nofollow\">Twitter for Android</a>', 'in_reply_to_status_id': None, 'in_reply_to_status_id_str': None, 'in_reply_to_user_id': None, 'in_reply_to_user_id_str': None, 'in_reply_to_screen_name': None, 'user': {'id': 175372810, 'id_str': '175372810', 'name': 'VADIRAJ C S 🇮🇳', 'screen_name': 'vschanna', 'location': 'Mysore, Karnataka, India', 'description': 'Politics, Religion & Music are of interest to me. RTs are not necessarily endorsements. My music YouTube channel https://t.co/wlQPjJGzc1', 'url': 'https://t.co/CvnI1FFCpN', 'entities': {'url': {'urls': [{'url': 'https://t.co/CvnI1FFCpN', 'expanded_url': 'http://avalokanasite.wordpress.com', 'display_url': 'avalokanasite.wordpress.com', 'indices': [0, 23]}]}, 'description': {'urls': [{'url': 'https://t.co/wlQPjJGzc1', 'expanded_url': 'https://youtu.be/T-w0oOBIznA', 'display_url': 'youtu.be/T-w0oOBIznA', 'indices': [113, 136]}]}}, 'protected': False, 'followers_count': 3493, 'friends_count': 115, 'listed_count': 49, 'created_at': 'Fri Aug 06 12:29:52 +0000 2010', 'favourites_count': 34795, 'utc_offset': None, 'time_zone': None, 'geo_enabled': True, 'verified': False, 'statuses_count': 107274, 'lang': None, 'contributors_enabled': False, 'is_translator': False, 'is_translation_enabled': False, 'profile_background_color': '0099B9', 'profile_background_image_url': 'http://abs.twimg.com/images/themes/theme4/bg.gif', 'profile_background_image_url_https': 'https://abs.twimg.com/images/themes/theme4/bg.gif', 'profile_background_tile': False, 'profile_image_url': 'http://pbs.twimg.com/profile_images/512869356447870976/NduRjqUv_normal.jpeg', 'profile_image_url_https': 'https://pbs.twimg.com/profile_images/512869356447870976/NduRjqUv_normal.jpeg', 'profile_banner_url': 'https://pbs.twimg.com/profile_banners/175372810/1515422720', 'profile_link_color': '0099B9', 'profile_sidebar_border_color': '5ED4DC', 'profile_sidebar_fill_color': '95E8EC', 'profile_text_color': '3C3940', 'profile_use_background_image': True, 'has_extended_profile': False, 'default_profile': False, 'default_profile_image': False, 'following': False, 'follow_request_sent': False, 'notifications': False, 'translator_type': 'none'}, 'geo': None, 'coordinates': None, 'place': None, 'contributors': None, 'is_quote_status': True, 'quoted_status_id': 1321296515495792640, 'quoted_status_id_str': '1321296515495792640', 'quoted_status': {'created_at': 'Wed Oct 28 03:43:32 +0000 2020', 'id': 1321296515495792640, 'id_str': '1321296515495792640', 'full_text': '@narendramodi is a deeply saatvik person, lacking in kshatra spirit. And to compound the issue has internalised Gandhian non-violence nonsense. That explains his desire to be good with all including enemies. He is better off as a Sanyasi. Unfortunate truth ...', 'truncated': False, 'display_text_range': [0, 260], 'entities': {'hashtags': [], 'symbols': [], 'user_mentions': [{'screen_name': 'narendramodi', 'name': 'Narendra Modi', 'id': 18839785, 'id_str': '18839785', 'indices': [0, 13]}], 'urls': []}, 'metadata': {'iso_language_code': 'en', 'result_type': 'recent'}, 'source': '<a href=\"http://twitter.com/download/android\" rel=\"nofollow\">Twitter for Android</a>', 'in_reply_to_status_id': None, 'in_reply_to_status_id_str': None, 'in_reply_to_user_id': 18839785, 'in_reply_to_user_id_str': '18839785', 'in_reply_to_screen_name': 'narendramodi', 'user': {'id': 175372810, 'id_str': '175372810', 'name': 'VADIRAJ C S 🇮🇳', 'screen_name': 'vschanna', 'location': 'Mysore, Karnataka, India', 'description': 'Politics, Religion & Music are of interest to me. RTs are not necessarily endorsements. My music YouTube channel https://t.co/wlQPjJGzc1', 'url': 'https://t.co/CvnI1FFCpN', 'entities': {'url': {'urls': [{'url': 'https://t.co/CvnI1FFCpN', 'expanded_url': 'http://avalokanasite.wordpress.com', 'display_url': 'avalokanasite.wordpress.com', 'indices': [0, 23]}]}, 'description': {'urls': [{'url': 'https://t.co/wlQPjJGzc1', 'expanded_url': 'https://youtu.be/T-w0oOBIznA', 'display_url': 'youtu.be/T-w0oOBIznA', 'indices': [113, 136]}]}}, 'protected': False, 'followers_count': 3493, 'friends_count': 115, 'listed_count': 49, 'created_at': 'Fri Aug 06 12:29:52 +0000 2010', 'favourites_count': 34795, 'utc_offset': None, 'time_zone': None, 'geo_enabled': True, 'verified': False, 'statuses_count': 107274, 'lang': None, 'contributors_enabled': False, 'is_translator': False, 'is_translation_enabled': False, 'profile_background_color': '0099B9', 'profile_background_image_url': 'http://abs.twimg.com/images/themes/theme4/bg.gif', 'profile_background_image_url_https': 'https://abs.twimg.com/images/themes/theme4/bg.gif', 'profile_background_tile': False, 'profile_image_url': 'http://pbs.twimg.com/profile_images/512869356447870976/NduRjqUv_normal.jpeg', 'profile_image_url_https': 'https://pbs.twimg.com/profile_images/512869356447870976/NduRjqUv_normal.jpeg', 'profile_banner_url': 'https://pbs.twimg.com/profile_banners/175372810/1515422720', 'profile_link_color': '0099B9', 'profile_sidebar_border_color': '5ED4DC', 'profile_sidebar_fill_color': '95E8EC', 'profile_text_color': '3C3940', 'profile_use_background_image': True, 'has_extended_profile': False, 'default_profile': False, 'default_profile_image': False, 'following': False, 'follow_request_sent': False, 'notifications': False, 'translator_type': 'none'}, 'geo': None, 'coordinates': None, 'place': None, 'contributors': None, 'is_quote_status': False, 'retweet_count': 3, 'favorite_count': 8, 'favorited': False, 'retweeted': False, 'lang': 'en'}, 'retweet_count': 5, 'favorite_count': 7, 'favorited': False, 'retweeted': False, 'possibly_sensitive': False, 'lang': 'en'}, created_at=datetime.datetime(2020, 10, 28, 3, 49, 26), id=1321298001458061318, id_str='1321298001458061318', full_text='What India needs is a leader steeped in kshatra spirit to protect our culture, interest, lives and legacy. A sanyasi is not fit to be a PM. At best he can be an advisor. There is a serious mismatch between the job role of a leader of the nation and the natural svabhava of Modi ji https://t.co/bIxpqEeW2B', truncated=False, display_text_range=[0, 280], entities={'hashtags': [], 'symbols': [], 'user_mentions': [], 'urls': [{'url': 'https://t.co/bIxpqEeW2B', 'expanded_url': 'https://twitter.com/vschanna/status/1321296515495792640', 'display_url': 'twitter.com/vschanna/statu…', 'indices': [281, 304]}]}, metadata={'iso_language_code': 'en', 'result_type': 'recent'}, source='Twitter for Android', source_url='http://twitter.com/download/android', in_reply_to_status_id=None, in_reply_to_status_id_str=None, in_reply_to_user_id=None, in_reply_to_user_id_str=None, in_reply_to_screen_name=None, author=User(_api=<tweepy.api.API object at 0x000001D7ABEDFA48>, _json={'id': 175372810, 'id_str': '175372810', 'name': 'VADIRAJ C S 🇮🇳', 'screen_name': 'vschanna', 'location': 'Mysore, Karnataka, India', 'description': 'Politics, Religion & Music are of interest to me. RTs are not necessarily endorsements. My music YouTube channel https://t.co/wlQPjJGzc1', 'url': 'https://t.co/CvnI1FFCpN', 'entities': {'url': {'urls': [{'url': 'https://t.co/CvnI1FFCpN', 'expanded_url': 'http://avalokanasite.wordpress.com', 'display_url': 'avalokanasite.wordpress.com', 'indices': [0, 23]}]}, 'description': {'urls': [{'url': 'https://t.co/wlQPjJGzc1', 'expanded_url': 'https://youtu.be/T-w0oOBIznA', 'display_url': 'youtu.be/T-w0oOBIznA', 'indices': [113, 136]}]}}, 'protected': False, 'followers_count': 3493, 'friends_count': 115, 'listed_count': 49, 'created_at': 'Fri Aug 06 12:29:52 +0000 2010', 'favourites_count': 34795, 'utc_offset': None, 'time_zone': None, 'geo_enabled': True, 'verified': False, 'statuses_count': 107274, 'lang': None, 'contributors_enabled': False, 'is_translator': False, 'is_translation_enabled': False, 'profile_background_color': '0099B9', 'profile_background_image_url': 'http://abs.twimg.com/images/themes/theme4/bg.gif', 'profile_background_image_url_https': 'https://abs.twimg.com/images/themes/theme4/bg.gif', 'profile_background_tile': False, 'profile_image_url': 'http://pbs.twimg.com/profile_images/512869356447870976/NduRjqUv_normal.jpeg', 'profile_image_url_https': 'https://pbs.twimg.com/profile_images/512869356447870976/NduRjqUv_normal.jpeg', 'profile_banner_url': 'https://pbs.twimg.com/profile_banners/175372810/1515422720', 'profile_link_color': '0099B9', 'profile_sidebar_border_color': '5ED4DC', 'profile_sidebar_fill_color': '95E8EC', 'profile_text_color': '3C3940', 'profile_use_background_image': True, 'has_extended_profile': False, 'default_profile': False, 'default_profile_image': False, 'following': False, 'follow_request_sent': False, 'notifications': False, 'translator_type': 'none'}, id=175372810, id_str='175372810', name='VADIRAJ C S 🇮🇳', screen_name='vschanna', location='Mysore, Karnataka, India', description='Politics, Religion & Music are of interest to me. RTs are not necessarily endorsements. My music YouTube channel https://t.co/wlQPjJGzc1', url='https://t.co/CvnI1FFCpN', entities={'url': {'urls': [{'url': 'https://t.co/CvnI1FFCpN', 'expanded_url': 'http://avalokanasite.wordpress.com', 'display_url': 'avalokanasite.wordpress.com', 'indices': [0, 23]}]}, 'description': {'urls': [{'url': 'https://t.co/wlQPjJGzc1', 'expanded_url': 'https://youtu.be/T-w0oOBIznA', 'display_url': 'youtu.be/T-w0oOBIznA', 'indices': [113, 136]}]}}, protected=False, followers_count=3493, friends_count=115, listed_count=49, created_at=datetime.datetime(2010, 8, 6, 12, 29, 52), favourites_count=34795, utc_offset=None, time_zone=None, geo_enabled=True, verified=False, statuses_count=107274, lang=None, contributors_enabled=False, is_translator=False, is_translation_enabled=False, profile_background_color='0099B9', profile_background_image_url='http://abs.twimg.com/images/themes/theme4/bg.gif', profile_background_image_url_https='https://abs.twimg.com/images/themes/theme4/bg.gif', profile_background_tile=False, profile_image_url='http://pbs.twimg.com/profile_images/512869356447870976/NduRjqUv_normal.jpeg', profile_image_url_https='https://pbs.twimg.com/profile_images/512869356447870976/NduRjqUv_normal.jpeg', profile_banner_url='https://pbs.twimg.com/profile_banners/175372810/1515422720', profile_link_color='0099B9', profile_sidebar_border_color='5ED4DC', profile_sidebar_fill_color='95E8EC', profile_text_color='3C3940', profile_use_background_image=True, has_extended_profile=False, default_profile=False, default_profile_image=False, following=False, follow_request_sent=False, notifications=False, translator_type='none'), user=User(_api=<tweepy.api.API object at 0x000001D7ABEDFA48>, _json={'id': 175372810, 'id_str': '175372810', 'name': 'VADIRAJ C S 🇮🇳', 'screen_name': 'vschanna', 'location': 'Mysore, Karnataka, India', 'description': 'Politics, Religion & Music are of interest to me. RTs are not necessarily endorsements. My music YouTube channel https://t.co/wlQPjJGzc1', 'url': 'https://t.co/CvnI1FFCpN', 'entities': {'url': {'urls': [{'url': 'https://t.co/CvnI1FFCpN', 'expanded_url': 'http://avalokanasite.wordpress.com', 'display_url': 'avalokanasite.wordpress.com', 'indices': [0, 23]}]}, 'description': {'urls': [{'url': 'https://t.co/wlQPjJGzc1', 'expanded_url': 'https://youtu.be/T-w0oOBIznA', 'display_url': 'youtu.be/T-w0oOBIznA', 'indices': [113, 136]}]}}, 'protected': False, 'followers_count': 3493, 'friends_count': 115, 'listed_count': 49, 'created_at': 'Fri Aug 06 12:29:52 +0000 2010', 'favourites_count': 34795, 'utc_offset': None, 'time_zone': None, 'geo_enabled': True, 'verified': False, 'statuses_count': 107274, 'lang': None, 'contributors_enabled': False, 'is_translator': False, 'is_translation_enabled': False, 'profile_background_color': '0099B9', 'profile_background_image_url': 'http://abs.twimg.com/images/themes/theme4/bg.gif', 'profile_background_image_url_https': 'https://abs.twimg.com/images/themes/theme4/bg.gif', 'profile_background_tile': False, 'profile_image_url': 'http://pbs.twimg.com/profile_images/512869356447870976/NduRjqUv_normal.jpeg', 'profile_image_url_https': 'https://pbs.twimg.com/profile_images/512869356447870976/NduRjqUv_normal.jpeg', 'profile_banner_url': 'https://pbs.twimg.com/profile_banners/175372810/1515422720', 'profile_link_color': '0099B9', 'profile_sidebar_border_color': '5ED4DC', 'profile_sidebar_fill_color': '95E8EC', 'profile_text_color': '3C3940', 'profile_use_background_image': True, 'has_extended_profile': False, 'default_profile': False, 'default_profile_image': False, 'following': False, 'follow_request_sent': False, 'notifications': False, 'translator_type': 'none'}, id=175372810, id_str='175372810', name='VADIRAJ C S 🇮🇳', screen_name='vschanna', location='Mysore, Karnataka, India', description='Politics, Religion & Music are of interest to me. RTs are not necessarily endorsements. My music YouTube channel https://t.co/wlQPjJGzc1', url='https://t.co/CvnI1FFCpN', entities={'url': {'urls': [{'url': 'https://t.co/CvnI1FFCpN', 'expanded_url': 'http://avalokanasite.wordpress.com', 'display_url': 'avalokanasite.wordpress.com', 'indices': [0, 23]}]}, 'description': {'urls': [{'url': 'https://t.co/wlQPjJGzc1', 'expanded_url': 'https://youtu.be/T-w0oOBIznA', 'display_url': 'youtu.be/T-w0oOBIznA', 'indices': [113, 136]}]}}, protected=False, followers_count=3493, friends_count=115, listed_count=49, created_at=datetime.datetime(2010, 8, 6, 12, 29, 52), favourites_count=34795, utc_offset=None, time_zone=None, geo_enabled=True, verified=False, statuses_count=107274, lang=None, contributors_enabled=False, is_translator=False, is_translation_enabled=False, profile_background_color='0099B9', profile_background_image_url='http://abs.twimg.com/images/themes/theme4/bg.gif', profile_background_image_url_https='https://abs.twimg.com/images/themes/theme4/bg.gif', profile_background_tile=False, profile_image_url='http://pbs.twimg.com/profile_images/512869356447870976/NduRjqUv_normal.jpeg', profile_image_url_https='https://pbs.twimg.com/profile_images/512869356447870976/NduRjqUv_normal.jpeg', profile_banner_url='https://pbs.twimg.com/profile_banners/175372810/1515422720', profile_link_color='0099B9', profile_sidebar_border_color='5ED4DC', profile_sidebar_fill_color='95E8EC', profile_text_color='3C3940', profile_use_background_image=True, has_extended_profile=False, default_profile=False, default_profile_image=False, following=False, follow_request_sent=False, notifications=False, translator_type='none'), geo=None, coordinates=None, place=None, contributors=None, is_quote_status=True, quoted_status_id=1321296515495792640, quoted_status_id_str='1321296515495792640', quoted_status=Status(_api=<tweepy.api.API object at 0x000001D7ABEDFA48>, _json={'created_at': 'Wed Oct 28 03:43:32 +0000 2020', 'id': 1321296515495792640, 'id_str': '1321296515495792640', 'full_text': '@narendramodi is a deeply saatvik person, lacking in kshatra spirit. And to compound the issue has internalised Gandhian non-violence nonsense. That explains his desire to be good with all including enemies. He is better off as a Sanyasi. Unfortunate truth ...', 'truncated': False, 'display_text_range': [0, 260], 'entities': {'hashtags': [], 'symbols': [], 'user_mentions': [{'screen_name': 'narendramodi', 'name': 'Narendra Modi', 'id': 18839785, 'id_str': '18839785', 'indices': [0, 13]}], 'urls': []}, 'metadata': {'iso_language_code': 'en', 'result_type': 'recent'}, 'source': '<a href=\"http://twitter.com/download/android\" rel=\"nofollow\">Twitter for Android</a>', 'in_reply_to_status_id': None, 'in_reply_to_status_id_str': None, 'in_reply_to_user_id': 18839785, 'in_reply_to_user_id_str': '18839785', 'in_reply_to_screen_name': 'narendramodi', 'user': {'id': 175372810, 'id_str': '175372810', 'name': 'VADIRAJ C S 🇮🇳', 'screen_name': 'vschanna', 'location': 'Mysore, Karnataka, India', 'description': 'Politics, Religion & Music are of interest to me. RTs are not necessarily endorsements. My music YouTube channel https://t.co/wlQPjJGzc1', 'url': 'https://t.co/CvnI1FFCpN', 'entities': {'url': {'urls': [{'url': 'https://t.co/CvnI1FFCpN', 'expanded_url': 'http://avalokanasite.wordpress.com', 'display_url': 'avalokanasite.wordpress.com', 'indices': [0, 23]}]}, 'description': {'urls': [{'url': 'https://t.co/wlQPjJGzc1', 'expanded_url': 'https://youtu.be/T-w0oOBIznA', 'display_url': 'youtu.be/T-w0oOBIznA', 'indices': [113, 136]}]}}, 'protected': False, 'followers_count': 3493, 'friends_count': 115, 'listed_count': 49, 'created_at': 'Fri Aug 06 12:29:52 +0000 2010', 'favourites_count': 34795, 'utc_offset': None, 'time_zone': None, 'geo_enabled': True, 'verified': False, 'statuses_count': 107274, 'lang': None, 'contributors_enabled': False, 'is_translator': False, 'is_translation_enabled': False, 'profile_background_color': '0099B9', 'profile_background_image_url': 'http://abs.twimg.com/images/themes/theme4/bg.gif', 'profile_background_image_url_https': 'https://abs.twimg.com/images/themes/theme4/bg.gif', 'profile_background_tile': False, 'profile_image_url': 'http://pbs.twimg.com/profile_images/512869356447870976/NduRjqUv_normal.jpeg', 'profile_image_url_https': 'https://pbs.twimg.com/profile_images/512869356447870976/NduRjqUv_normal.jpeg', 'profile_banner_url': 'https://pbs.twimg.com/profile_banners/175372810/1515422720', 'profile_link_color': '0099B9', 'profile_sidebar_border_color': '5ED4DC', 'profile_sidebar_fill_color': '95E8EC', 'profile_text_color': '3C3940', 'profile_use_background_image': True, 'has_extended_profile': False, 'default_profile': False, 'default_profile_image': False, 'following': False, 'follow_request_sent': False, 'notifications': False, 'translator_type': 'none'}, 'geo': None, 'coordinates': None, 'place': None, 'contributors': None, 'is_quote_status': False, 'retweet_count': 3, 'favorite_count': 8, 'favorited': False, 'retweeted': False, 'lang': 'en'}, created_at=datetime.datetime(2020, 10, 28, 3, 43, 32), id=1321296515495792640, id_str='1321296515495792640', full_text='@narendramodi is a deeply saatvik person, lacking in kshatra spirit. And to compound the issue has internalised Gandhian non-violence nonsense. That explains his desire to be good with all including enemies. He is better off as a Sanyasi. Unfortunate truth ...', truncated=False, display_text_range=[0, 260], entities={'hashtags': [], 'symbols': [], 'user_mentions': [{'screen_name': 'narendramodi', 'name': 'Narendra Modi', 'id': 18839785, 'id_str': '18839785', 'indices': [0, 13]}], 'urls': []}, metadata={'iso_language_code': 'en', 'result_type': 'recent'}, source='Twitter for Android', source_url='http://twitter.com/download/android', in_reply_to_status_id=None, in_reply_to_status_id_str=None, in_reply_to_user_id=18839785, in_reply_to_user_id_str='18839785', in_reply_to_screen_name='narendramodi', author=User(_api=<tweepy.api.API object at 0x000001D7ABEDFA48>, _json={'id': 175372810, 'id_str': '175372810', 'name': 'VADIRAJ C S 🇮🇳', 'screen_name': 'vschanna', 'location': 'Mysore, Karnataka, India', 'description': 'Politics, Religion & Music are of interest to me. RTs are not necessarily endorsements. My music YouTube channel https://t.co/wlQPjJGzc1', 'url': 'https://t.co/CvnI1FFCpN', 'entities': {'url': {'urls': [{'url': 'https://t.co/CvnI1FFCpN', 'expanded_url': 'http://avalokanasite.wordpress.com', 'display_url': 'avalokanasite.wordpress.com', 'indices': [0, 23]}]}, 'description': {'urls': [{'url': 'https://t.co/wlQPjJGzc1', 'expanded_url': 'https://youtu.be/T-w0oOBIznA', 'display_url': 'youtu.be/T-w0oOBIznA', 'indices': [113, 136]}]}}, 'protected': False, 'followers_count': 3493, 'friends_count': 115, 'listed_count': 49, 'created_at': 'Fri Aug 06 12:29:52 +0000 2010', 'favourites_count': 34795, 'utc_offset': None, 'time_zone': None, 'geo_enabled': True, 'verified': False, 'statuses_count': 107274, 'lang': None, 'contributors_enabled': False, 'is_translator': False, 'is_translation_enabled': False, 'profile_background_color': '0099B9', 'profile_background_image_url': 'http://abs.twimg.com/images/themes/theme4/bg.gif', 'profile_background_image_url_https': 'https://abs.twimg.com/images/themes/theme4/bg.gif', 'profile_background_tile': False, 'profile_image_url': 'http://pbs.twimg.com/profile_images/512869356447870976/NduRjqUv_normal.jpeg', 'profile_image_url_https': 'https://pbs.twimg.com/profile_images/512869356447870976/NduRjqUv_normal.jpeg', 'profile_banner_url': 'https://pbs.twimg.com/profile_banners/175372810/1515422720', 'profile_link_color': '0099B9', 'profile_sidebar_border_color': '5ED4DC', 'profile_sidebar_fill_color': '95E8EC', 'profile_text_color': '3C3940', 'profile_use_background_image': True, 'has_extended_profile': False, 'default_profile': False, 'default_profile_image': False, 'following': False, 'follow_request_sent': False, 'notifications': False, 'translator_type': 'none'}, id=175372810, id_str='175372810', name='VADIRAJ C S 🇮🇳', screen_name='vschanna', location='Mysore, Karnataka, India', description='Politics, Religion & Music are of interest to me. RTs are not necessarily endorsements. My music YouTube channel https://t.co/wlQPjJGzc1', url='https://t.co/CvnI1FFCpN', entities={'url': {'urls': [{'url': 'https://t.co/CvnI1FFCpN', 'expanded_url': 'http://avalokanasite.wordpress.com', 'display_url': 'avalokanasite.wordpress.com', 'indices': [0, 23]}]}, 'description': {'urls': [{'url': 'https://t.co/wlQPjJGzc1', 'expanded_url': 'https://youtu.be/T-w0oOBIznA', 'display_url': 'youtu.be/T-w0oOBIznA', 'indices': [113, 136]}]}}, protected=False, followers_count=3493, friends_count=115, listed_count=49, created_at=datetime.datetime(2010, 8, 6, 12, 29, 52), favourites_count=34795, utc_offset=None, time_zone=None, geo_enabled=True, verified=False, statuses_count=107274, lang=None, contributors_enabled=False, is_translator=False, is_translation_enabled=False, profile_background_color='0099B9', profile_background_image_url='http://abs.twimg.com/images/themes/theme4/bg.gif', profile_background_image_url_https='https://abs.twimg.com/images/themes/theme4/bg.gif', profile_background_tile=False, profile_image_url='http://pbs.twimg.com/profile_images/512869356447870976/NduRjqUv_normal.jpeg', profile_image_url_https='https://pbs.twimg.com/profile_images/512869356447870976/NduRjqUv_normal.jpeg', profile_banner_url='https://pbs.twimg.com/profile_banners/175372810/1515422720', profile_link_color='0099B9', profile_sidebar_border_color='5ED4DC', profile_sidebar_fill_color='95E8EC', profile_text_color='3C3940', profile_use_background_image=True, has_extended_profile=False, default_profile=False, default_profile_image=False, following=False, follow_request_sent=False, notifications=False, translator_type='none'), user=User(_api=<tweepy.api.API object at 0x000001D7ABEDFA48>, _json={'id': 175372810, 'id_str': '175372810', 'name': 'VADIRAJ C S 🇮🇳', 'screen_name': 'vschanna', 'location': 'Mysore, Karnataka, India', 'description': 'Politics, Religion & Music are of interest to me. RTs are not necessarily endorsements. My music YouTube channel https://t.co/wlQPjJGzc1', 'url': 'https://t.co/CvnI1FFCpN', 'entities': {'url': {'urls': [{'url': 'https://t.co/CvnI1FFCpN', 'expanded_url': 'http://avalokanasite.wordpress.com', 'display_url': 'avalokanasite.wordpress.com', 'indices': [0, 23]}]}, 'description': {'urls': [{'url': 'https://t.co/wlQPjJGzc1', 'expanded_url': 'https://youtu.be/T-w0oOBIznA', 'display_url': 'youtu.be/T-w0oOBIznA', 'indices': [113, 136]}]}}, 'protected': False, 'followers_count': 3493, 'friends_count': 115, 'listed_count': 49, 'created_at': 'Fri Aug 06 12:29:52 +0000 2010', 'favourites_count': 34795, 'utc_offset': None, 'time_zone': None, 'geo_enabled': True, 'verified': False, 'statuses_count': 107274, 'lang': None, 'contributors_enabled': False, 'is_translator': False, 'is_translation_enabled': False, 'profile_background_color': '0099B9', 'profile_background_image_url': 'http://abs.twimg.com/images/themes/theme4/bg.gif', 'profile_background_image_url_https': 'https://abs.twimg.com/images/themes/theme4/bg.gif', 'profile_background_tile': False, 'profile_image_url': 'http://pbs.twimg.com/profile_images/512869356447870976/NduRjqUv_normal.jpeg', 'profile_image_url_https': 'https://pbs.twimg.com/profile_images/512869356447870976/NduRjqUv_normal.jpeg', 'profile_banner_url': 'https://pbs.twimg.com/profile_banners/175372810/1515422720', 'profile_link_color': '0099B9', 'profile_sidebar_border_color': '5ED4DC', 'profile_sidebar_fill_color': '95E8EC', 'profile_text_color': '3C3940', 'profile_use_background_image': True, 'has_extended_profile': False, 'default_profile': False, 'default_profile_image': False, 'following': False, 'follow_request_sent': False, 'notifications': False, 'translator_type': 'none'}, id=175372810, id_str='175372810', name='VADIRAJ C S 🇮🇳', screen_name='vschanna', location='Mysore, Karnataka, India', description='Politics, Religion & Music are of interest to me. RTs are not necessarily endorsements. My music YouTube channel https://t.co/wlQPjJGzc1', url='https://t.co/CvnI1FFCpN', entities={'url': {'urls': [{'url': 'https://t.co/CvnI1FFCpN', 'expanded_url': 'http://avalokanasite.wordpress.com', 'display_url': 'avalokanasite.wordpress.com', 'indices': [0, 23]}]}, 'description': {'urls': [{'url': 'https://t.co/wlQPjJGzc1', 'expanded_url': 'https://youtu.be/T-w0oOBIznA', 'display_url': 'youtu.be/T-w0oOBIznA', 'indices': [113, 136]}]}}, protected=False, followers_count=3493, friends_count=115, listed_count=49, created_at=datetime.datetime(2010, 8, 6, 12, 29, 52), favourites_count=34795, utc_offset=None, time_zone=None, geo_enabled=True, verified=False, statuses_count=107274, lang=None, contributors_enabled=False, is_translator=False, is_translation_enabled=False, profile_background_color='0099B9', profile_background_image_url='http://abs.twimg.com/images/themes/theme4/bg.gif', profile_background_image_url_https='https://abs.twimg.com/images/themes/theme4/bg.gif', profile_background_tile=False, profile_image_url='http://pbs.twimg.com/profile_images/512869356447870976/NduRjqUv_normal.jpeg', profile_image_url_https='https://pbs.twimg.com/profile_images/512869356447870976/NduRjqUv_normal.jpeg', profile_banner_url='https://pbs.twimg.com/profile_banners/175372810/1515422720', profile_link_color='0099B9', profile_sidebar_border_color='5ED4DC', profile_sidebar_fill_color='95E8EC', profile_text_color='3C3940', profile_use_background_image=True, has_extended_profile=False, default_profile=False, default_profile_image=False, following=False, follow_request_sent=False, notifications=False, translator_type='none'), geo=None, coordinates=None, place=None, contributors=None, is_quote_status=False, retweet_count=3, favorite_count=8, favorited=False, retweeted=False, lang='en'), retweet_count=5, favorite_count=7, favorited=False, retweeted=False, possibly_sensitive=False, lang='en') \n",
      "\n",
      ".....................................\n",
      "\n"
     ]
    }
   ],
   "source": [
    "Tweets = api.search( query , count=10 , lang='en' , exclude='retweets' , tweet_mode='extended' )\n",
    "\n",
    "# tweet_mode='extended'\n",
    "# tweet_mode='compat'.....it is default mode\n",
    "\n",
    "for tweet in Tweets:\n",
    "    print(tweet,\"\\n\")\n",
    "    print(\".....................................\\n\")"
   ]
  },
  {
   "cell_type": "markdown",
   "metadata": {},
   "source": [
    "# Get the tweets and Some Attributes:"
   ]
  },
  {
   "cell_type": "code",
   "execution_count": 8,
   "metadata": {},
   "outputs": [
    {
     "name": "stdout",
     "output_type": "stream",
     "text": [
      "Empty DataFrame\n",
      "Columns: [Tweets, User, User_statuses_count, user_followers, User_location, User_verified, fav_count, rt_count, tweet_date]\n",
      "Index: []\n"
     ]
    }
   ],
   "source": [
    "df = pd.DataFrame (columns = ['Tweets' , 'User' , 'User_statuses_count' , \n",
    "                              'user_followers' , 'User_location' , 'User_verified' ,\n",
    "                              'fav_count' , 'rt_count' , 'tweet_date'] )\n",
    "\n",
    "print(df)"
   ]
  },
  {
   "cell_type": "code",
   "execution_count": 9,
   "metadata": {},
   "outputs": [
    {
     "data": {
      "text/plain": [
       "(0, 9)"
      ]
     },
     "execution_count": 9,
     "metadata": {},
     "output_type": "execute_result"
    }
   ],
   "source": [
    "df.shape"
   ]
  },
  {
   "cell_type": "markdown",
   "metadata": {},
   "source": [
    "# Define Function:"
   ]
  },
  {
   "cell_type": "code",
   "execution_count": 10,
   "metadata": {},
   "outputs": [],
   "source": [
    "def stream(data, file_name):\n",
    "    i = 0\n",
    "    \n",
    "    for tweet in tweepy.Cursor(api.search, q=data, count=100, lang='en').items():\n",
    "        print(i, end='\\r')\n",
    "        \n",
    "        df.loc[i, 'Tweets'] = tweet.text\n",
    "        df.loc[i, 'User'] = tweet.user.name\n",
    "        df.loc[i, 'User_statuses_count'] = tweet.user.statuses_count\n",
    "        df.loc[i, 'user_followers'] = tweet.user.followers_count\n",
    "        df.loc[i, 'User_location'] = tweet.user.location\n",
    "        df.loc[i, 'User_verified'] = tweet.user.verified\n",
    "        df.loc[i, 'fav_count'] = tweet.favorite_count\n",
    "        df.loc[i, 'rt_count'] = tweet.retweet_count\n",
    "        df.loc[i, 'tweet_date'] = tweet.created_at\n",
    "        \n",
    "        df.to_excel('{}.xlsx'.format(file_name))\n",
    "        i = i+1\n",
    "        \n",
    "        if i == 1000:\n",
    "            break\n",
    "        else:\n",
    "            pass\n",
    "        "
   ]
  },
  {
   "cell_type": "code",
   "execution_count": 14,
   "metadata": {},
   "outputs": [
    {
     "name": "stdout",
     "output_type": "stream",
     "text": [
      "999\r"
     ]
    }
   ],
   "source": [
    "stream(data=[\"Trump will lose the election\"] , file_name='My_tweets')"
   ]
  },
  {
   "cell_type": "code",
   "execution_count": 15,
   "metadata": {},
   "outputs": [
    {
     "data": {
      "text/html": [
       "<div>\n",
       "<style scoped>\n",
       "    .dataframe tbody tr th:only-of-type {\n",
       "        vertical-align: middle;\n",
       "    }\n",
       "\n",
       "    .dataframe tbody tr th {\n",
       "        vertical-align: top;\n",
       "    }\n",
       "\n",
       "    .dataframe thead th {\n",
       "        text-align: right;\n",
       "    }\n",
       "</style>\n",
       "<table border=\"1\" class=\"dataframe\">\n",
       "  <thead>\n",
       "    <tr style=\"text-align: right;\">\n",
       "      <th></th>\n",
       "      <th>Tweets</th>\n",
       "      <th>User</th>\n",
       "      <th>User_statuses_count</th>\n",
       "      <th>user_followers</th>\n",
       "      <th>User_location</th>\n",
       "      <th>User_verified</th>\n",
       "      <th>fav_count</th>\n",
       "      <th>rt_count</th>\n",
       "      <th>tweet_date</th>\n",
       "    </tr>\n",
       "  </thead>\n",
       "  <tbody>\n",
       "    <tr>\n",
       "      <th>0</th>\n",
       "      <td>RT @Tuko_co_ke: Social media users are convinc...</td>\n",
       "      <td>PRINCE🚀TITTOH💯</td>\n",
       "      <td>19499</td>\n",
       "      <td>2161</td>\n",
       "      <td>Republic of Kenya🇰🇪🇰🇪</td>\n",
       "      <td>False</td>\n",
       "      <td>0</td>\n",
       "      <td>1</td>\n",
       "      <td>2020-11-05 09:12:18</td>\n",
       "    </tr>\n",
       "    <tr>\n",
       "      <th>1</th>\n",
       "      <td>@GrymDaGooner These ppl are thick as shit. Thi...</td>\n",
       "      <td>Cheryl Stephensön 🇯🇲🇬🇧</td>\n",
       "      <td>120704</td>\n",
       "      <td>4844</td>\n",
       "      <td>Enfield, North London</td>\n",
       "      <td>False</td>\n",
       "      <td>0</td>\n",
       "      <td>0</td>\n",
       "      <td>2020-11-05 09:10:45</td>\n",
       "    </tr>\n",
       "    <tr>\n",
       "      <th>2</th>\n",
       "      <td>@Uberleeto @Luislanlaga @ContraPoints Republic...</td>\n",
       "      <td>Zachary Stefanek</td>\n",
       "      <td>401</td>\n",
       "      <td>1</td>\n",
       "      <td></td>\n",
       "      <td>False</td>\n",
       "      <td>0</td>\n",
       "      <td>0</td>\n",
       "      <td>2020-11-05 09:10:10</td>\n",
       "    </tr>\n",
       "    <tr>\n",
       "      <th>3</th>\n",
       "      <td>Social media users are convinced that @realDon...</td>\n",
       "      <td>Tuko.co.ke</td>\n",
       "      <td>85505</td>\n",
       "      <td>127411</td>\n",
       "      <td>Nairobi, Kenya</td>\n",
       "      <td>True</td>\n",
       "      <td>2</td>\n",
       "      <td>1</td>\n",
       "      <td>2020-11-05 09:09:21</td>\n",
       "    </tr>\n",
       "    <tr>\n",
       "      <th>4</th>\n",
       "      <td>People are asking whether this election is a r...</td>\n",
       "      <td>Ryan</td>\n",
       "      <td>17373</td>\n",
       "      <td>425</td>\n",
       "      <td></td>\n",
       "      <td>False</td>\n",
       "      <td>0</td>\n",
       "      <td>0</td>\n",
       "      <td>2020-11-05 09:08:04</td>\n",
       "    </tr>\n",
       "  </tbody>\n",
       "</table>\n",
       "</div>"
      ],
      "text/plain": [
       "                                              Tweets                    User  \\\n",
       "0  RT @Tuko_co_ke: Social media users are convinc...          PRINCE🚀TITTOH💯   \n",
       "1  @GrymDaGooner These ppl are thick as shit. Thi...  Cheryl Stephensön 🇯🇲🇬🇧   \n",
       "2  @Uberleeto @Luislanlaga @ContraPoints Republic...        Zachary Stefanek   \n",
       "3  Social media users are convinced that @realDon...              Tuko.co.ke   \n",
       "4  People are asking whether this election is a r...                    Ryan   \n",
       "\n",
       "  User_statuses_count user_followers          User_location User_verified  \\\n",
       "0               19499           2161  Republic of Kenya🇰🇪🇰🇪         False   \n",
       "1              120704           4844  Enfield, North London         False   \n",
       "2                 401              1                                False   \n",
       "3               85505         127411         Nairobi, Kenya          True   \n",
       "4               17373            425                                False   \n",
       "\n",
       "  fav_count rt_count           tweet_date  \n",
       "0         0        1  2020-11-05 09:12:18  \n",
       "1         0        0  2020-11-05 09:10:45  \n",
       "2         0        0  2020-11-05 09:10:10  \n",
       "3         2        1  2020-11-05 09:09:21  \n",
       "4         0        0  2020-11-05 09:08:04  "
      ]
     },
     "execution_count": 15,
     "metadata": {},
     "output_type": "execute_result"
    }
   ],
   "source": [
    "df.head()"
   ]
  },
  {
   "cell_type": "code",
   "execution_count": 16,
   "metadata": {},
   "outputs": [
    {
     "name": "stdout",
     "output_type": "stream",
     "text": [
      "Requirement already satisfied: textblob in c:\\users\\lenovo\\anaconda3\\lib\\site-packages (0.15.3)\n",
      "Requirement already satisfied: nltk>=3.1 in c:\\users\\lenovo\\anaconda3\\lib\\site-packages (from textblob) (3.4.5)\n",
      "Requirement already satisfied: six in c:\\users\\lenovo\\anaconda3\\lib\\site-packages (from nltk>=3.1->textblob) (1.14.0)\n"
     ]
    }
   ],
   "source": [
    "!pip install textblob"
   ]
  },
  {
   "cell_type": "markdown",
   "metadata": {},
   "source": [
    "# Sentiment\n",
    "Sentiment (polarity,subjectivity)\n",
    "\n",
    "Polarity score:[-1, +1]\n",
    "\n",
    "Subjectivity :[0.0 , 1.0]\n",
    "\n",
    "i: 0.0 Objective\n",
    "\n",
    "ii: 1.0 Subjective (Theory)"
   ]
  },
  {
   "cell_type": "code",
   "execution_count": 17,
   "metadata": {},
   "outputs": [],
   "source": [
    "from textblob import TextBlob"
   ]
  },
  {
   "cell_type": "code",
   "execution_count": 18,
   "metadata": {},
   "outputs": [],
   "source": [
    "import re\n",
    "\n",
    "def clean_tweet(tweet):\n",
    "    return ' '.join(re.sub('(@[A-Za-z0-9]+)|([^0-9A-Za-z \\t])|(\\w+:\\/\\/\\S+)', ' ', tweet).split())\n"
   ]
  },
  {
   "cell_type": "code",
   "execution_count": 19,
   "metadata": {},
   "outputs": [],
   "source": [
    "def analyze_sentiment(tweet):\n",
    "    analysis = TextBlob(tweet)\n",
    "    if analysis.sentiment.polarity > 0:\n",
    "        return 'Positive'\n",
    "    elif analysis.sentiment.polarity == 0:\n",
    "        return 'Neutral'\n",
    "    else:\n",
    "        return 'Negative'\n",
    "    "
   ]
  },
  {
   "cell_type": "code",
   "execution_count": 20,
   "metadata": {},
   "outputs": [],
   "source": [
    "df['clean_tweet'] = df['Tweets'].apply(lambda x : clean_tweet(x))"
   ]
  },
  {
   "cell_type": "code",
   "execution_count": 21,
   "metadata": {},
   "outputs": [
    {
     "data": {
      "text/html": [
       "<div>\n",
       "<style scoped>\n",
       "    .dataframe tbody tr th:only-of-type {\n",
       "        vertical-align: middle;\n",
       "    }\n",
       "\n",
       "    .dataframe tbody tr th {\n",
       "        vertical-align: top;\n",
       "    }\n",
       "\n",
       "    .dataframe thead th {\n",
       "        text-align: right;\n",
       "    }\n",
       "</style>\n",
       "<table border=\"1\" class=\"dataframe\">\n",
       "  <thead>\n",
       "    <tr style=\"text-align: right;\">\n",
       "      <th></th>\n",
       "      <th>Tweets</th>\n",
       "      <th>User</th>\n",
       "      <th>User_statuses_count</th>\n",
       "      <th>user_followers</th>\n",
       "      <th>User_location</th>\n",
       "      <th>User_verified</th>\n",
       "      <th>fav_count</th>\n",
       "      <th>rt_count</th>\n",
       "      <th>tweet_date</th>\n",
       "      <th>clean_tweet</th>\n",
       "    </tr>\n",
       "  </thead>\n",
       "  <tbody>\n",
       "    <tr>\n",
       "      <th>0</th>\n",
       "      <td>RT @Tuko_co_ke: Social media users are convinc...</td>\n",
       "      <td>PRINCE🚀TITTOH💯</td>\n",
       "      <td>19499</td>\n",
       "      <td>2161</td>\n",
       "      <td>Republic of Kenya🇰🇪🇰🇪</td>\n",
       "      <td>False</td>\n",
       "      <td>0</td>\n",
       "      <td>1</td>\n",
       "      <td>2020-11-05 09:12:18</td>\n",
       "      <td>RT co ke Social media users are convinced that...</td>\n",
       "    </tr>\n",
       "    <tr>\n",
       "      <th>1</th>\n",
       "      <td>@GrymDaGooner These ppl are thick as shit. Thi...</td>\n",
       "      <td>Cheryl Stephensön 🇯🇲🇬🇧</td>\n",
       "      <td>120704</td>\n",
       "      <td>4844</td>\n",
       "      <td>Enfield, North London</td>\n",
       "      <td>False</td>\n",
       "      <td>0</td>\n",
       "      <td>0</td>\n",
       "      <td>2020-11-05 09:10:45</td>\n",
       "      <td>These ppl are thick as shit This is the very r...</td>\n",
       "    </tr>\n",
       "    <tr>\n",
       "      <th>2</th>\n",
       "      <td>@Uberleeto @Luislanlaga @ContraPoints Republic...</td>\n",
       "      <td>Zachary Stefanek</td>\n",
       "      <td>401</td>\n",
       "      <td>1</td>\n",
       "      <td></td>\n",
       "      <td>False</td>\n",
       "      <td>0</td>\n",
       "      <td>0</td>\n",
       "      <td>2020-11-05 09:10:10</td>\n",
       "      <td>Republicans tend to blindly follow Trump and T...</td>\n",
       "    </tr>\n",
       "    <tr>\n",
       "      <th>3</th>\n",
       "      <td>Social media users are convinced that @realDon...</td>\n",
       "      <td>Tuko.co.ke</td>\n",
       "      <td>85505</td>\n",
       "      <td>127411</td>\n",
       "      <td>Nairobi, Kenya</td>\n",
       "      <td>True</td>\n",
       "      <td>2</td>\n",
       "      <td>1</td>\n",
       "      <td>2020-11-05 09:09:21</td>\n",
       "      <td>Social media users are convinced that will los...</td>\n",
       "    </tr>\n",
       "    <tr>\n",
       "      <th>4</th>\n",
       "      <td>People are asking whether this election is a r...</td>\n",
       "      <td>Ryan</td>\n",
       "      <td>17373</td>\n",
       "      <td>425</td>\n",
       "      <td></td>\n",
       "      <td>False</td>\n",
       "      <td>0</td>\n",
       "      <td>0</td>\n",
       "      <td>2020-11-05 09:08:04</td>\n",
       "      <td>People are asking whether this election is a r...</td>\n",
       "    </tr>\n",
       "  </tbody>\n",
       "</table>\n",
       "</div>"
      ],
      "text/plain": [
       "                                              Tweets                    User  \\\n",
       "0  RT @Tuko_co_ke: Social media users are convinc...          PRINCE🚀TITTOH💯   \n",
       "1  @GrymDaGooner These ppl are thick as shit. Thi...  Cheryl Stephensön 🇯🇲🇬🇧   \n",
       "2  @Uberleeto @Luislanlaga @ContraPoints Republic...        Zachary Stefanek   \n",
       "3  Social media users are convinced that @realDon...              Tuko.co.ke   \n",
       "4  People are asking whether this election is a r...                    Ryan   \n",
       "\n",
       "  User_statuses_count user_followers          User_location User_verified  \\\n",
       "0               19499           2161  Republic of Kenya🇰🇪🇰🇪         False   \n",
       "1              120704           4844  Enfield, North London         False   \n",
       "2                 401              1                                False   \n",
       "3               85505         127411         Nairobi, Kenya          True   \n",
       "4               17373            425                                False   \n",
       "\n",
       "  fav_count rt_count           tweet_date  \\\n",
       "0         0        1  2020-11-05 09:12:18   \n",
       "1         0        0  2020-11-05 09:10:45   \n",
       "2         0        0  2020-11-05 09:10:10   \n",
       "3         2        1  2020-11-05 09:09:21   \n",
       "4         0        0  2020-11-05 09:08:04   \n",
       "\n",
       "                                         clean_tweet  \n",
       "0  RT co ke Social media users are convinced that...  \n",
       "1  These ppl are thick as shit This is the very r...  \n",
       "2  Republicans tend to blindly follow Trump and T...  \n",
       "3  Social media users are convinced that will los...  \n",
       "4  People are asking whether this election is a r...  "
      ]
     },
     "execution_count": 21,
     "metadata": {},
     "output_type": "execute_result"
    }
   ],
   "source": [
    "df.head()"
   ]
  },
  {
   "cell_type": "code",
   "execution_count": 22,
   "metadata": {},
   "outputs": [
    {
     "data": {
      "text/html": [
       "<div>\n",
       "<style scoped>\n",
       "    .dataframe tbody tr th:only-of-type {\n",
       "        vertical-align: middle;\n",
       "    }\n",
       "\n",
       "    .dataframe tbody tr th {\n",
       "        vertical-align: top;\n",
       "    }\n",
       "\n",
       "    .dataframe thead th {\n",
       "        text-align: right;\n",
       "    }\n",
       "</style>\n",
       "<table border=\"1\" class=\"dataframe\">\n",
       "  <thead>\n",
       "    <tr style=\"text-align: right;\">\n",
       "      <th></th>\n",
       "      <th>Tweets</th>\n",
       "      <th>User</th>\n",
       "      <th>User_statuses_count</th>\n",
       "      <th>user_followers</th>\n",
       "      <th>User_location</th>\n",
       "      <th>User_verified</th>\n",
       "      <th>fav_count</th>\n",
       "      <th>rt_count</th>\n",
       "      <th>tweet_date</th>\n",
       "      <th>clean_tweet</th>\n",
       "      <th>Sentiment</th>\n",
       "    </tr>\n",
       "  </thead>\n",
       "  <tbody>\n",
       "    <tr>\n",
       "      <th>0</th>\n",
       "      <td>RT @Tuko_co_ke: Social media users are convinc...</td>\n",
       "      <td>PRINCE🚀TITTOH💯</td>\n",
       "      <td>19499</td>\n",
       "      <td>2161</td>\n",
       "      <td>Republic of Kenya🇰🇪🇰🇪</td>\n",
       "      <td>False</td>\n",
       "      <td>0</td>\n",
       "      <td>1</td>\n",
       "      <td>2020-11-05 09:12:18</td>\n",
       "      <td>RT co ke Social media users are convinced that...</td>\n",
       "      <td>Negative</td>\n",
       "    </tr>\n",
       "    <tr>\n",
       "      <th>1</th>\n",
       "      <td>@GrymDaGooner These ppl are thick as shit. Thi...</td>\n",
       "      <td>Cheryl Stephensön 🇯🇲🇬🇧</td>\n",
       "      <td>120704</td>\n",
       "      <td>4844</td>\n",
       "      <td>Enfield, North London</td>\n",
       "      <td>False</td>\n",
       "      <td>0</td>\n",
       "      <td>0</td>\n",
       "      <td>2020-11-05 09:10:45</td>\n",
       "      <td>These ppl are thick as shit This is the very r...</td>\n",
       "      <td>Negative</td>\n",
       "    </tr>\n",
       "    <tr>\n",
       "      <th>2</th>\n",
       "      <td>@Uberleeto @Luislanlaga @ContraPoints Republic...</td>\n",
       "      <td>Zachary Stefanek</td>\n",
       "      <td>401</td>\n",
       "      <td>1</td>\n",
       "      <td></td>\n",
       "      <td>False</td>\n",
       "      <td>0</td>\n",
       "      <td>0</td>\n",
       "      <td>2020-11-05 09:10:10</td>\n",
       "      <td>Republicans tend to blindly follow Trump and T...</td>\n",
       "      <td>Negative</td>\n",
       "    </tr>\n",
       "    <tr>\n",
       "      <th>3</th>\n",
       "      <td>Social media users are convinced that @realDon...</td>\n",
       "      <td>Tuko.co.ke</td>\n",
       "      <td>85505</td>\n",
       "      <td>127411</td>\n",
       "      <td>Nairobi, Kenya</td>\n",
       "      <td>True</td>\n",
       "      <td>2</td>\n",
       "      <td>1</td>\n",
       "      <td>2020-11-05 09:09:21</td>\n",
       "      <td>Social media users are convinced that will los...</td>\n",
       "      <td>Negative</td>\n",
       "    </tr>\n",
       "    <tr>\n",
       "      <th>4</th>\n",
       "      <td>People are asking whether this election is a r...</td>\n",
       "      <td>Ryan</td>\n",
       "      <td>17373</td>\n",
       "      <td>425</td>\n",
       "      <td></td>\n",
       "      <td>False</td>\n",
       "      <td>0</td>\n",
       "      <td>0</td>\n",
       "      <td>2020-11-05 09:08:04</td>\n",
       "      <td>People are asking whether this election is a r...</td>\n",
       "      <td>Neutral</td>\n",
       "    </tr>\n",
       "  </tbody>\n",
       "</table>\n",
       "</div>"
      ],
      "text/plain": [
       "                                              Tweets                    User  \\\n",
       "0  RT @Tuko_co_ke: Social media users are convinc...          PRINCE🚀TITTOH💯   \n",
       "1  @GrymDaGooner These ppl are thick as shit. Thi...  Cheryl Stephensön 🇯🇲🇬🇧   \n",
       "2  @Uberleeto @Luislanlaga @ContraPoints Republic...        Zachary Stefanek   \n",
       "3  Social media users are convinced that @realDon...              Tuko.co.ke   \n",
       "4  People are asking whether this election is a r...                    Ryan   \n",
       "\n",
       "  User_statuses_count user_followers          User_location User_verified  \\\n",
       "0               19499           2161  Republic of Kenya🇰🇪🇰🇪         False   \n",
       "1              120704           4844  Enfield, North London         False   \n",
       "2                 401              1                                False   \n",
       "3               85505         127411         Nairobi, Kenya          True   \n",
       "4               17373            425                                False   \n",
       "\n",
       "  fav_count rt_count           tweet_date  \\\n",
       "0         0        1  2020-11-05 09:12:18   \n",
       "1         0        0  2020-11-05 09:10:45   \n",
       "2         0        0  2020-11-05 09:10:10   \n",
       "3         2        1  2020-11-05 09:09:21   \n",
       "4         0        0  2020-11-05 09:08:04   \n",
       "\n",
       "                                         clean_tweet Sentiment  \n",
       "0  RT co ke Social media users are convinced that...  Negative  \n",
       "1  These ppl are thick as shit This is the very r...  Negative  \n",
       "2  Republicans tend to blindly follow Trump and T...  Negative  \n",
       "3  Social media users are convinced that will los...  Negative  \n",
       "4  People are asking whether this election is a r...   Neutral  "
      ]
     },
     "execution_count": 22,
     "metadata": {},
     "output_type": "execute_result"
    }
   ],
   "source": [
    "df['Sentiment'] = df['clean_tweet'].apply(lambda x : analyze_sentiment(x) )\n",
    "df.head()"
   ]
  },
  {
   "cell_type": "code",
   "execution_count": 23,
   "metadata": {},
   "outputs": [
    {
     "name": "stdout",
     "output_type": "stream",
     "text": [
      "Original tweet:\n",
      " They are ready and willing to steal this election. Every single democratic (not the party) american should be ready… https://t.co/KyvUgr3Any\n",
      "\n",
      "Clean tweet:\n",
      " They are ready and willing to steal this election Every single democratic not the party american should be ready\n",
      "\n",
      "Sentiment of the tweet:\n",
      " Positive\n"
     ]
    }
   ],
   "source": [
    "n =5\n",
    "print(\"Original tweet:\\n\",df['Tweets'][n])\n",
    "print()\n",
    "print(\"Clean tweet:\\n\",df['clean_tweet'][n])\n",
    "print()\n",
    "print(\"Sentiment of the tweet:\\n\",df['Sentiment'][n])"
   ]
  },
  {
   "cell_type": "code",
   "execution_count": 24,
   "metadata": {},
   "outputs": [
    {
     "name": "stdout",
     "output_type": "stream",
     "text": [
      "Original tweet:\n",
      " RT @laurenhopkinss: If President Trump loses the election he will go down as the best president on paper to lose an election. The things he…\n",
      "\n",
      "Clean tweet:\n",
      " RT If President Trump loses the election he will go down as the best president on paper to lose an election The things he\n",
      "\n",
      "Sentiment of the tweet:\n",
      " Positive\n"
     ]
    }
   ],
   "source": [
    "n =6\n",
    "print(\"Original tweet:\\n\",df['Tweets'][n])\n",
    "print()\n",
    "print(\"Clean tweet:\\n\",df['clean_tweet'][n])\n",
    "print()\n",
    "print(\"Sentiment of the tweet:\\n\",df['Sentiment'][n])"
   ]
  },
  {
   "cell_type": "code",
   "execution_count": 25,
   "metadata": {},
   "outputs": [
    {
     "data": {
      "text/plain": [
       "718"
      ]
     },
     "execution_count": 25,
     "metadata": {},
     "output_type": "execute_result"
    }
   ],
   "source": [
    "df[df.Sentiment == 'Positive'].shape[0]"
   ]
  },
  {
   "cell_type": "code",
   "execution_count": 26,
   "metadata": {},
   "outputs": [
    {
     "data": {
      "text/plain": [
       "206"
      ]
     },
     "execution_count": 26,
     "metadata": {},
     "output_type": "execute_result"
    }
   ],
   "source": [
    "df[df.Sentiment == 'Neutral'].shape[0]"
   ]
  },
  {
   "cell_type": "code",
   "execution_count": 27,
   "metadata": {},
   "outputs": [
    {
     "data": {
      "text/plain": [
       "76"
      ]
     },
     "execution_count": 27,
     "metadata": {},
     "output_type": "execute_result"
    }
   ],
   "source": [
    "df[df.Sentiment == 'Negative'].shape[0]"
   ]
  },
  {
   "cell_type": "code",
   "execution_count": null,
   "metadata": {},
   "outputs": [],
   "source": []
  }
 ],
 "metadata": {
  "kernelspec": {
   "display_name": "Python 3",
   "language": "python",
   "name": "python3"
  },
  "language_info": {
   "codemirror_mode": {
    "name": "ipython",
    "version": 3
   },
   "file_extension": ".py",
   "mimetype": "text/x-python",
   "name": "python",
   "nbconvert_exporter": "python",
   "pygments_lexer": "ipython3",
   "version": "3.7.6"
  }
 },
 "nbformat": 4,
 "nbformat_minor": 4
}
