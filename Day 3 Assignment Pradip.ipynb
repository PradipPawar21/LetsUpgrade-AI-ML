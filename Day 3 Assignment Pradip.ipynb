{
 "cells": [
  {
   "cell_type": "markdown",
   "metadata": {},
   "source": [
    "# Name : Pradip Anandrao Pawar"
   ]
  },
  {
   "cell_type": "markdown",
   "metadata": {},
   "source": [
    "# LetsUpgrade AI & ML Assignment : Day 03"
   ]
  },
  {
   "cell_type": "markdown",
   "metadata": {},
   "source": [
    "# Question 1 : Write a program to subtract two complex numbers in Python"
   ]
  },
  {
   "cell_type": "code",
   "execution_count": 1,
   "metadata": {},
   "outputs": [
    {
     "name": "stdout",
     "output_type": "stream",
     "text": [
      "(5+9j)\n",
      "<class 'complex'>\n",
      "\n",
      "(2+4j)\n",
      "<class 'complex'>\n",
      "\n",
      "subtract two complex numbers =  (3+5j)\n"
     ]
    }
   ],
   "source": [
    "a = 5 + 9j      # assigning complex number for a \n",
    "b = 2 + 4j      # assigning complex number for b\n",
    "\n",
    "print(a)        # printing value of a\n",
    "print(type(a))  # checking type of a\n",
    "\n",
    "print()         # printing just blank line for output looks like good\n",
    "\n",
    "print(b)        # printing value of b\n",
    "print(type(b))  # checking type of a\n",
    "\n",
    "print()         # printing just blank line for output looks like good\n",
    "\n",
    "print(\"subtract two complex numbers = \",a-b)   # here is main required output"
   ]
  },
  {
   "cell_type": "markdown",
   "metadata": {},
   "source": [
    "# Question 2 : Write a program to find the fourth root of a number\n"
   ]
  },
  {
   "cell_type": "code",
   "execution_count": 5,
   "metadata": {},
   "outputs": [
    {
     "name": "stdout",
     "output_type": "stream",
     "text": [
      "Enter the number for finding out 4th root : 16\n",
      "Forth root of given number is =  2.0\n"
     ]
    }
   ],
   "source": [
    "num = int(input(\"Enter the number for finding out 4th root : \"))\n",
    "\n",
    "fourth_root = num ** 0.25     # for fourth root use power (1/4) ie. 0.25\n",
    "\n",
    "print(\"Forth root of given number is = \",fourth_root)"
   ]
  },
  {
   "cell_type": "markdown",
   "metadata": {},
   "source": [
    "# Question 3: Write a program to swap two numbers in Python with the help of a temporary variable"
   ]
  },
  {
   "cell_type": "code",
   "execution_count": 6,
   "metadata": {},
   "outputs": [
    {
     "name": "stdout",
     "output_type": "stream",
     "text": [
      "Initialy value of a : 100\n",
      "Initialy value of b : 200\n",
      "Value of a is swap to b, so now a =  200\n",
      "Value of b is swap to a, so now b =  100\n"
     ]
    }
   ],
   "source": [
    "a = 100\n",
    "b = 200\n",
    "\n",
    "print(\"Initialy value of a :\",a)\n",
    "print(\"Initialy value of b :\",b)\n",
    "\n",
    "temp = a            # here I use one temperory variable for storing value of \n",
    "a = b               # here I store value of b in a so valu of b is swap in a\n",
    "b = temp            # here I store temp value in b means a value is swap into b using temp variable\n",
    "\n",
    "print(\"Value of a is swap to b, so now a = \", a)\n",
    "print(\"Value of b is swap to a, so now b = \", b)"
   ]
  },
  {
   "cell_type": "markdown",
   "metadata": {},
   "source": [
    "# Question 4: Write a program to swap two numbers in Python without using a temporary variable"
   ]
  },
  {
   "cell_type": "code",
   "execution_count": 7,
   "metadata": {},
   "outputs": [
    {
     "name": "stdout",
     "output_type": "stream",
     "text": [
      "Initialy value of a : 100\n",
      "Initialy value of b : 200\n",
      "Value of a is swap to b, so now a =  200\n",
      "Value of b is swap to a, so now b =  100\n"
     ]
    }
   ],
   "source": [
    "a = 100\n",
    "b = 200\n",
    "\n",
    "print(\"Initialy value of a :\",a)\n",
    "print(\"Initialy value of b :\",b)\n",
    "\n",
    "a, b = b, a \n",
    "# here I directy write a=b  and b=a by using comma for seperation\n",
    "#      in one line without using temp variable\n",
    "\n",
    "print(\"Value of a is swap to b, so now a = \", a)\n",
    "print(\"Value of b is swap to a, so now b = \", b)"
   ]
  },
  {
   "cell_type": "markdown",
   "metadata": {},
   "source": [
    "\n",
    "# Question 5: Write a program to convert fahrenheit to kelvin and celsius both\n"
   ]
  },
  {
   "cell_type": "code",
   "execution_count": 13,
   "metadata": {},
   "outputs": [
    {
     "name": "stdout",
     "output_type": "stream",
     "text": [
      "Enter the temperature in fahrenheit : 50\n",
      "\n",
      "50.0 Fahrenheit =  10.0 degree celsius\n",
      "\n",
      "50.0 Fahrenheit =  283.0 degree kelvin\n"
     ]
    }
   ],
   "source": [
    "fahrenheit = float(input(\"Enter the temperature in fahrenheit : \")) # taking value from user\n",
    "\n",
    "celsius = (fahrenheit - 32) * 5/9   # formula for conversion from fahrenheit to celsius\n",
    "\n",
    "kelvin = celsius + 273              # formula for conversion from celsius to kelvin\n",
    "\n",
    "print()\n",
    "print(fahrenheit, \"Fahrenheit = \",celsius,\"degree celsius\")\n",
    "print()\n",
    "print(fahrenheit, \"Fahrenheit = \",kelvin,\"degree kelvin\") \n"
   ]
  },
  {
   "cell_type": "markdown",
   "metadata": {},
   "source": [
    "# Question 6: Write a program to demonstrate all the available data types in Python. Hint: Use type() function"
   ]
  },
  {
   "cell_type": "code",
   "execution_count": 19,
   "metadata": {},
   "outputs": [
    {
     "name": "stdout",
     "output_type": "stream",
     "text": [
      "10\n",
      "<class 'int'>\n",
      "\n",
      "10.0\n",
      "<class 'float'>\n",
      "\n",
      "(10, 0, 0)\n",
      "<class 'tuple'>\n",
      "\n",
      "Hello Pradip\n",
      "<class 'str'>\n",
      "\n",
      "['P', 'r', 'a', 'd', 'i', 'p']\n",
      "<class 'list'>\n",
      "\n",
      "{'name': 'Sujit', 'age': 20}\n",
      "<class 'dict'>\n"
     ]
    }
   ],
   "source": [
    "a = 10\n",
    "print(a)\n",
    "print(type(a))\n",
    "print()\n",
    "\n",
    "b = 10.0\n",
    "print(b)\n",
    "print(type(b))\n",
    "print()\n",
    "\n",
    "c = 10,00,000\n",
    "print(c)\n",
    "print(type(c))\n",
    "print()\n",
    "\n",
    "my_str = \"Hello Pradip\"\n",
    "print(my_str)\n",
    "print(type(my_str))\n",
    "print()\n",
    "\n",
    "my_lst = list(\"Pradip\")\n",
    "print(my_lst)\n",
    "print(type(my_lst))\n",
    "print()\n",
    "\n",
    "my_dict = {'name':\"Sujit\", 'age':20}\n",
    "print(my_dict)\n",
    "print(type(my_dict))\n"
   ]
  },
  {
   "cell_type": "markdown",
   "metadata": {},
   "source": [
    "# Question 7: Create a Markdown cell in jupyter and list the steps discussed in the session by Dr. Darshan Ingle sir to create Github profile and upload Githubs Assignment link"
   ]
  },
  {
   "cell_type": "raw",
   "metadata": {},
   "source": [
    "1) For creating github profile go to github.com\n",
    "\n",
    "2) Sign Up with your email if you have not account on github\n",
    "\n",
    "3) If you have github account then sign in your account\n",
    "\n",
    "4) Create a Github public Repositorie\n",
    "\n",
    "5) Give name it LetsUpgrade AI/ML\n",
    "\n",
    "6) Upload the files/solution in the repositories in day wise\n",
    "\n",
    "7) Copy the URL of the Folder of that day and paste in the Assignment Submission Form\n",
    "\n",
    "8) Again check is it you link is public or not\n",
    "\n",
    "\n",
    "\n"
   ]
  }
 ],
 "metadata": {
  "kernelspec": {
   "display_name": "Python 3",
   "language": "python",
   "name": "python3"
  },
  "language_info": {
   "codemirror_mode": {
    "name": "ipython",
    "version": 3
   },
   "file_extension": ".py",
   "mimetype": "text/x-python",
   "name": "python",
   "nbconvert_exporter": "python",
   "pygments_lexer": "ipython3",
   "version": "3.7.6"
  }
 },
 "nbformat": 4,
 "nbformat_minor": 4
}
